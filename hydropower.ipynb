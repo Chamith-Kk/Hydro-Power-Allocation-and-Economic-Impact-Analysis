{
 "cells": [
  {
   "cell_type": "code",
   "execution_count": 13,
   "metadata": {},
   "outputs": [
    {
     "name": "stdout",
     "output_type": "stream",
     "text": [
      "Requirement already satisfied: pandas in c:\\users\\maker\\anaconda\\lib\\site-packages (1.4.4)\n",
      "Requirement already satisfied: numpy in c:\\users\\maker\\anaconda\\lib\\site-packages (1.21.5)\n",
      "Requirement already satisfied: scipy in c:\\users\\maker\\anaconda\\lib\\site-packages (1.9.1)\n",
      "Requirement already satisfied: matplotlib in c:\\users\\maker\\anaconda\\lib\\site-packages (3.5.2)\n",
      "Requirement already satisfied: seaborn in c:\\users\\maker\\anaconda\\lib\\site-packages (0.11.2)\n",
      "Requirement already satisfied: jupyter in c:\\users\\maker\\anaconda\\lib\\site-packages (1.0.0)\n",
      "Requirement already satisfied: pytz>=2020.1 in c:\\users\\maker\\anaconda\\lib\\site-packages (from pandas) (2022.1)\n",
      "Requirement already satisfied: python-dateutil>=2.8.1 in c:\\users\\maker\\anaconda\\lib\\site-packages (from pandas) (2.8.2)\n",
      "Requirement already satisfied: pillow>=6.2.0 in c:\\users\\maker\\anaconda\\lib\\site-packages (from matplotlib) (9.2.0)\n",
      "Requirement already satisfied: packaging>=20.0 in c:\\users\\maker\\anaconda\\lib\\site-packages (from matplotlib) (21.3)\n",
      "Requirement already satisfied: fonttools>=4.22.0 in c:\\users\\maker\\anaconda\\lib\\site-packages (from matplotlib) (4.25.0)\n",
      "Requirement already satisfied: cycler>=0.10 in c:\\users\\maker\\anaconda\\lib\\site-packages (from matplotlib) (0.11.0)\n",
      "Requirement already satisfied: pyparsing>=2.2.1 in c:\\users\\maker\\anaconda\\lib\\site-packages (from matplotlib) (3.0.9)\n",
      "Requirement already satisfied: kiwisolver>=1.0.1 in c:\\users\\maker\\anaconda\\lib\\site-packages (from matplotlib) (1.4.2)\n",
      "Requirement already satisfied: notebook in c:\\users\\maker\\anaconda\\lib\\site-packages (from jupyter) (6.4.12)\n",
      "Requirement already satisfied: ipykernel in c:\\users\\maker\\anaconda\\lib\\site-packages (from jupyter) (6.15.2)\n",
      "Requirement already satisfied: qtconsole in c:\\users\\maker\\anaconda\\lib\\site-packages (from jupyter) (5.2.2)\n",
      "Requirement already satisfied: ipywidgets in c:\\users\\maker\\anaconda\\lib\\site-packages (from jupyter) (7.6.5)\n",
      "Requirement already satisfied: nbconvert in c:\\users\\maker\\anaconda\\lib\\site-packages (from jupyter) (6.4.4)\n",
      "Requirement already satisfied: jupyter-console in c:\\users\\maker\\anaconda\\lib\\site-packages (from jupyter) (6.4.3)\n",
      "Requirement already satisfied: six>=1.5 in c:\\users\\maker\\anaconda\\lib\\site-packages (from python-dateutil>=2.8.1->pandas) (1.16.0)\n",
      "Requirement already satisfied: nest-asyncio in c:\\users\\maker\\anaconda\\lib\\site-packages (from ipykernel->jupyter) (1.5.5)\n",
      "Requirement already satisfied: traitlets>=5.1.0 in c:\\users\\maker\\anaconda\\lib\\site-packages (from ipykernel->jupyter) (5.1.1)\n",
      "Requirement already satisfied: psutil in c:\\users\\maker\\anaconda\\lib\\site-packages (from ipykernel->jupyter) (5.9.0)\n",
      "Requirement already satisfied: matplotlib-inline>=0.1 in c:\\users\\maker\\anaconda\\lib\\site-packages (from ipykernel->jupyter) (0.1.6)\n",
      "Requirement already satisfied: pyzmq>=17 in c:\\users\\maker\\anaconda\\lib\\site-packages (from ipykernel->jupyter) (23.2.0)\n",
      "Requirement already satisfied: jupyter-client>=6.1.12 in c:\\users\\maker\\anaconda\\lib\\site-packages (from ipykernel->jupyter) (7.3.4)\n",
      "Requirement already satisfied: ipython>=7.23.1 in c:\\users\\maker\\anaconda\\lib\\site-packages (from ipykernel->jupyter) (7.31.1)\n",
      "Requirement already satisfied: tornado>=6.1 in c:\\users\\maker\\anaconda\\lib\\site-packages (from ipykernel->jupyter) (6.1)\n",
      "Requirement already satisfied: debugpy>=1.0 in c:\\users\\maker\\anaconda\\lib\\site-packages (from ipykernel->jupyter) (1.5.1)\n",
      "Requirement already satisfied: widgetsnbextension~=3.5.0 in c:\\users\\maker\\anaconda\\lib\\site-packages (from ipywidgets->jupyter) (3.5.2)\n",
      "Requirement already satisfied: nbformat>=4.2.0 in c:\\users\\maker\\anaconda\\lib\\site-packages (from ipywidgets->jupyter) (5.5.0)\n",
      "Requirement already satisfied: jupyterlab-widgets>=1.0.0 in c:\\users\\maker\\anaconda\\lib\\site-packages (from ipywidgets->jupyter) (1.0.0)\n",
      "Requirement already satisfied: ipython-genutils~=0.2.0 in c:\\users\\maker\\anaconda\\lib\\site-packages (from ipywidgets->jupyter) (0.2.0)\n",
      "Requirement already satisfied: pygments in c:\\users\\maker\\anaconda\\lib\\site-packages (from jupyter-console->jupyter) (2.14.0)\n",
      "Requirement already satisfied: prompt-toolkit!=3.0.0,!=3.0.1,<3.1.0,>=2.0.0 in c:\\users\\maker\\anaconda\\lib\\site-packages (from jupyter-console->jupyter) (3.0.20)\n",
      "Requirement already satisfied: entrypoints>=0.2.2 in c:\\users\\maker\\anaconda\\lib\\site-packages (from nbconvert->jupyter) (0.4)\n",
      "Requirement already satisfied: bleach in c:\\users\\maker\\anaconda\\lib\\site-packages (from nbconvert->jupyter) (4.1.0)\n",
      "Requirement already satisfied: pandocfilters>=1.4.1 in c:\\users\\maker\\anaconda\\lib\\site-packages (from nbconvert->jupyter) (1.5.0)\n",
      "Requirement already satisfied: testpath in c:\\users\\maker\\anaconda\\lib\\site-packages (from nbconvert->jupyter) (0.6.0)\n",
      "Requirement already satisfied: nbclient<0.6.0,>=0.5.0 in c:\\users\\maker\\anaconda\\lib\\site-packages (from nbconvert->jupyter) (0.5.13)\n",
      "Requirement already satisfied: mistune<2,>=0.8.1 in c:\\users\\maker\\anaconda\\lib\\site-packages (from nbconvert->jupyter) (0.8.4)\n",
      "Requirement already satisfied: defusedxml in c:\\users\\maker\\anaconda\\lib\\site-packages (from nbconvert->jupyter) (0.7.1)\n",
      "Requirement already satisfied: jupyterlab-pygments in c:\\users\\maker\\anaconda\\lib\\site-packages (from nbconvert->jupyter) (0.1.2)\n",
      "Requirement already satisfied: beautifulsoup4 in c:\\users\\maker\\anaconda\\lib\\site-packages (from nbconvert->jupyter) (4.11.1)\n",
      "Requirement already satisfied: jupyter-core in c:\\users\\maker\\anaconda\\lib\\site-packages (from nbconvert->jupyter) (4.11.1)\n",
      "Requirement already satisfied: jinja2>=2.4 in c:\\users\\maker\\anaconda\\lib\\site-packages (from nbconvert->jupyter) (2.11.3)\n",
      "Requirement already satisfied: argon2-cffi in c:\\users\\maker\\anaconda\\lib\\site-packages (from notebook->jupyter) (21.3.0)\n",
      "Requirement already satisfied: terminado>=0.8.3 in c:\\users\\maker\\anaconda\\lib\\site-packages (from notebook->jupyter) (0.13.1)\n",
      "Requirement already satisfied: prometheus-client in c:\\users\\maker\\anaconda\\lib\\site-packages (from notebook->jupyter) (0.14.1)\n",
      "Requirement already satisfied: Send2Trash>=1.8.0 in c:\\users\\maker\\anaconda\\lib\\site-packages (from notebook->jupyter) (1.8.0)\n",
      "Requirement already satisfied: qtpy in c:\\users\\maker\\anaconda\\lib\\site-packages (from qtconsole->jupyter) (2.2.0)\n",
      "Requirement already satisfied: decorator in c:\\users\\maker\\anaconda\\lib\\site-packages (from ipython>=7.23.1->ipykernel->jupyter) (5.1.1)\n",
      "Requirement already satisfied: backcall in c:\\users\\maker\\anaconda\\lib\\site-packages (from ipython>=7.23.1->ipykernel->jupyter) (0.2.0)\n",
      "Requirement already satisfied: jedi>=0.16 in c:\\users\\maker\\anaconda\\lib\\site-packages (from ipython>=7.23.1->ipykernel->jupyter) (0.18.1)\n",
      "Requirement already satisfied: setuptools>=18.5 in c:\\users\\maker\\anaconda\\lib\\site-packages (from ipython>=7.23.1->ipykernel->jupyter) (63.4.1)\n",
      "Requirement already satisfied: pickleshare in c:\\users\\maker\\anaconda\\lib\\site-packages (from ipython>=7.23.1->ipykernel->jupyter) (0.7.5)\n",
      "Requirement already satisfied: colorama in c:\\users\\maker\\anaconda\\lib\\site-packages (from ipython>=7.23.1->ipykernel->jupyter) (0.4.5)\n",
      "Requirement already satisfied: MarkupSafe>=0.23 in c:\\users\\maker\\anaconda\\lib\\site-packages (from jinja2>=2.4->nbconvert->jupyter) (2.0.1)\n",
      "Requirement already satisfied: pywin32>=1.0 in c:\\users\\maker\\anaconda\\lib\\site-packages (from jupyter-core->nbconvert->jupyter) (302)\n",
      "Requirement already satisfied: jsonschema>=2.6 in c:\\users\\maker\\anaconda\\lib\\site-packages (from nbformat>=4.2.0->ipywidgets->jupyter) (4.16.0)\n",
      "Requirement already satisfied: fastjsonschema in c:\\users\\maker\\anaconda\\lib\\site-packages (from nbformat>=4.2.0->ipywidgets->jupyter) (2.16.2)\n",
      "Requirement already satisfied: wcwidth in c:\\users\\maker\\anaconda\\lib\\site-packages (from prompt-toolkit!=3.0.0,!=3.0.1,<3.1.0,>=2.0.0->jupyter-console->jupyter) (0.2.5)\n",
      "Requirement already satisfied: pywinpty>=1.1.0 in c:\\users\\maker\\anaconda\\lib\\site-packages (from terminado>=0.8.3->notebook->jupyter) (2.0.2)\n",
      "Requirement already satisfied: argon2-cffi-bindings in c:\\users\\maker\\anaconda\\lib\\site-packages (from argon2-cffi->notebook->jupyter) (21.2.0)\n",
      "Requirement already satisfied: soupsieve>1.2 in c:\\users\\maker\\anaconda\\lib\\site-packages (from beautifulsoup4->nbconvert->jupyter) (2.3.1)\n",
      "Requirement already satisfied: webencodings in c:\\users\\maker\\anaconda\\lib\\site-packages (from bleach->nbconvert->jupyter) (0.5.1)\n",
      "Requirement already satisfied: parso<0.9.0,>=0.8.0 in c:\\users\\maker\\anaconda\\lib\\site-packages (from jedi>=0.16->ipython>=7.23.1->ipykernel->jupyter) (0.8.3)\n",
      "Requirement already satisfied: attrs>=17.4.0 in c:\\users\\maker\\anaconda\\lib\\site-packages (from jsonschema>=2.6->nbformat>=4.2.0->ipywidgets->jupyter) (21.4.0)\n",
      "Requirement already satisfied: pyrsistent!=0.17.0,!=0.17.1,!=0.17.2,>=0.14.0 in c:\\users\\maker\\anaconda\\lib\\site-packages (from jsonschema>=2.6->nbformat>=4.2.0->ipywidgets->jupyter) (0.18.0)\n",
      "Requirement already satisfied: cffi>=1.0.1 in c:\\users\\maker\\anaconda\\lib\\site-packages (from argon2-cffi-bindings->argon2-cffi->notebook->jupyter) (1.15.1)\n",
      "Requirement already satisfied: pycparser in c:\\users\\maker\\anaconda\\lib\\site-packages (from cffi>=1.0.1->argon2-cffi-bindings->argon2-cffi->notebook->jupyter) (2.21)\n",
      "Note: you may need to restart the kernel to use updated packages.\n"
     ]
    }
   ],
   "source": [
    "pip install pandas numpy scipy matplotlib seaborn jupyter"
   ]
  },
  {
   "cell_type": "markdown",
   "metadata": {},
   "source": [
    "Importing all the required Libraries"
   ]
  },
  {
   "cell_type": "code",
   "execution_count": 14,
   "metadata": {},
   "outputs": [
    {
     "name": "stdout",
     "output_type": "stream",
     "text": [
      "Requirement already satisfied: dash-bootstrap-components in c:\\users\\maker\\anaconda\\lib\\site-packages (1.5.0)\n",
      "Requirement already satisfied: dash>=2.0.0 in c:\\users\\maker\\anaconda\\lib\\site-packages (from dash-bootstrap-components) (2.14.2)\n",
      "Requirement already satisfied: retrying in c:\\users\\maker\\anaconda\\lib\\site-packages (from dash>=2.0.0->dash-bootstrap-components) (1.3.4)\n",
      "Requirement already satisfied: requests in c:\\users\\maker\\anaconda\\lib\\site-packages (from dash>=2.0.0->dash-bootstrap-components) (2.28.1)\n",
      "Requirement already satisfied: nest-asyncio in c:\\users\\maker\\anaconda\\lib\\site-packages (from dash>=2.0.0->dash-bootstrap-components) (1.5.5)\n",
      "Requirement already satisfied: dash-table==5.0.0 in c:\\users\\maker\\anaconda\\lib\\site-packages (from dash>=2.0.0->dash-bootstrap-components) (5.0.0)\n",
      "Requirement already satisfied: setuptools in c:\\users\\maker\\anaconda\\lib\\site-packages (from dash>=2.0.0->dash-bootstrap-components) (63.4.1)\n",
      "Requirement already satisfied: plotly>=5.0.0 in c:\\users\\maker\\anaconda\\lib\\site-packages (from dash>=2.0.0->dash-bootstrap-components) (5.9.0)\n",
      "Requirement already satisfied: importlib-metadata in c:\\users\\maker\\anaconda\\lib\\site-packages (from dash>=2.0.0->dash-bootstrap-components) (4.11.3)\n",
      "Requirement already satisfied: Flask<3.1,>=1.0.4 in c:\\users\\maker\\anaconda\\lib\\site-packages (from dash>=2.0.0->dash-bootstrap-components) (1.1.2)\n",
      "Requirement already satisfied: Werkzeug<3.1 in c:\\users\\maker\\anaconda\\lib\\site-packages (from dash>=2.0.0->dash-bootstrap-components) (2.0.3)\n",
      "Requirement already satisfied: dash-core-components==2.0.0 in c:\\users\\maker\\anaconda\\lib\\site-packages (from dash>=2.0.0->dash-bootstrap-components) (2.0.0)\n",
      "Requirement already satisfied: typing-extensions>=4.1.1 in c:\\users\\maker\\anaconda\\lib\\site-packages (from dash>=2.0.0->dash-bootstrap-components) (4.3.0)\n",
      "Requirement already satisfied: ansi2html in c:\\users\\maker\\anaconda\\lib\\site-packages (from dash>=2.0.0->dash-bootstrap-components) (1.8.0)\n",
      "Requirement already satisfied: dash-html-components==2.0.0 in c:\\users\\maker\\anaconda\\lib\\site-packages (from dash>=2.0.0->dash-bootstrap-components) (2.0.0)\n",
      "Requirement already satisfied: click>=5.1 in c:\\users\\maker\\anaconda\\lib\\site-packages (from Flask<3.1,>=1.0.4->dash>=2.0.0->dash-bootstrap-components) (8.0.4)\n",
      "Requirement already satisfied: itsdangerous>=0.24 in c:\\users\\maker\\anaconda\\lib\\site-packages (from Flask<3.1,>=1.0.4->dash>=2.0.0->dash-bootstrap-components) (2.0.1)\n",
      "Requirement already satisfied: Jinja2>=2.10.1 in c:\\users\\maker\\anaconda\\lib\\site-packages (from Flask<3.1,>=1.0.4->dash>=2.0.0->dash-bootstrap-components) (2.11.3)\n",
      "Requirement already satisfied: tenacity>=6.2.0 in c:\\users\\maker\\anaconda\\lib\\site-packages (from plotly>=5.0.0->dash>=2.0.0->dash-bootstrap-components) (8.0.1)\n",
      "Requirement already satisfied: zipp>=0.5 in c:\\users\\maker\\anaconda\\lib\\site-packages (from importlib-metadata->dash>=2.0.0->dash-bootstrap-components) (3.8.0)\n",
      "Requirement already satisfied: urllib3<1.27,>=1.21.1 in c:\\users\\maker\\anaconda\\lib\\site-packages (from requests->dash>=2.0.0->dash-bootstrap-components) (1.26.11)\n",
      "Requirement already satisfied: certifi>=2017.4.17 in c:\\users\\maker\\anaconda\\lib\\site-packages (from requests->dash>=2.0.0->dash-bootstrap-components) (2022.9.14)\n",
      "Requirement already satisfied: idna<4,>=2.5 in c:\\users\\maker\\anaconda\\lib\\site-packages (from requests->dash>=2.0.0->dash-bootstrap-components) (3.3)\n",
      "Requirement already satisfied: charset-normalizer<3,>=2 in c:\\users\\maker\\anaconda\\lib\\site-packages (from requests->dash>=2.0.0->dash-bootstrap-components) (2.0.4)\n",
      "Requirement already satisfied: six>=1.7.0 in c:\\users\\maker\\anaconda\\lib\\site-packages (from retrying->dash>=2.0.0->dash-bootstrap-components) (1.16.0)\n",
      "Requirement already satisfied: colorama in c:\\users\\maker\\anaconda\\lib\\site-packages (from click>=5.1->Flask<3.1,>=1.0.4->dash>=2.0.0->dash-bootstrap-components) (0.4.5)\n",
      "Requirement already satisfied: MarkupSafe>=0.23 in c:\\users\\maker\\anaconda\\lib\\site-packages (from Jinja2>=2.10.1->Flask<3.1,>=1.0.4->dash>=2.0.0->dash-bootstrap-components) (2.0.1)\n",
      "Note: you may need to restart the kernel to use updated packages.\n"
     ]
    }
   ],
   "source": [
    "pip install dash-bootstrap-components\n"
   ]
  },
  {
   "cell_type": "code",
   "execution_count": 15,
   "metadata": {},
   "outputs": [
    {
     "name": "stdout",
     "output_type": "stream",
     "text": [
      "Requirement already satisfied: dash in c:\\users\\maker\\anaconda\\lib\\site-packages (2.14.2)\n",
      "Requirement already satisfied: dash-renderer in c:\\users\\maker\\anaconda\\lib\\site-packages (1.9.1)\n",
      "Requirement already satisfied: dash-html-components in c:\\users\\maker\\anaconda\\lib\\site-packages (2.0.0)\n",
      "Requirement already satisfied: dash-core-components in c:\\users\\maker\\anaconda\\lib\\site-packages (2.0.0)\n",
      "Requirement already satisfied: retrying in c:\\users\\maker\\anaconda\\lib\\site-packages (from dash) (1.3.4)\n",
      "Requirement already satisfied: nest-asyncio in c:\\users\\maker\\anaconda\\lib\\site-packages (from dash) (1.5.5)\n",
      "Requirement already satisfied: ansi2html in c:\\users\\maker\\anaconda\\lib\\site-packages (from dash) (1.8.0)\n",
      "Requirement already satisfied: setuptools in c:\\users\\maker\\anaconda\\lib\\site-packages (from dash) (63.4.1)\n",
      "Requirement already satisfied: typing-extensions>=4.1.1 in c:\\users\\maker\\anaconda\\lib\\site-packages (from dash) (4.3.0)\n",
      "Requirement already satisfied: requests in c:\\users\\maker\\anaconda\\lib\\site-packages (from dash) (2.28.1)\n",
      "Requirement already satisfied: importlib-metadata in c:\\users\\maker\\anaconda\\lib\\site-packages (from dash) (4.11.3)\n",
      "Requirement already satisfied: plotly>=5.0.0 in c:\\users\\maker\\anaconda\\lib\\site-packages (from dash) (5.9.0)\n",
      "Requirement already satisfied: dash-table==5.0.0 in c:\\users\\maker\\anaconda\\lib\\site-packages (from dash) (5.0.0)\n",
      "Requirement already satisfied: Flask<3.1,>=1.0.4 in c:\\users\\maker\\anaconda\\lib\\site-packages (from dash) (1.1.2)\n",
      "Requirement already satisfied: Werkzeug<3.1 in c:\\users\\maker\\anaconda\\lib\\site-packages (from dash) (2.0.3)\n",
      "Requirement already satisfied: click>=5.1 in c:\\users\\maker\\anaconda\\lib\\site-packages (from Flask<3.1,>=1.0.4->dash) (8.0.4)\n",
      "Requirement already satisfied: Jinja2>=2.10.1 in c:\\users\\maker\\anaconda\\lib\\site-packages (from Flask<3.1,>=1.0.4->dash) (2.11.3)\n",
      "Requirement already satisfied: itsdangerous>=0.24 in c:\\users\\maker\\anaconda\\lib\\site-packages (from Flask<3.1,>=1.0.4->dash) (2.0.1)\n",
      "Requirement already satisfied: tenacity>=6.2.0 in c:\\users\\maker\\anaconda\\lib\\site-packages (from plotly>=5.0.0->dash) (8.0.1)\n",
      "Requirement already satisfied: zipp>=0.5 in c:\\users\\maker\\anaconda\\lib\\site-packages (from importlib-metadata->dash) (3.8.0)\n",
      "Requirement already satisfied: idna<4,>=2.5 in c:\\users\\maker\\anaconda\\lib\\site-packages (from requests->dash) (3.3)\n",
      "Requirement already satisfied: certifi>=2017.4.17 in c:\\users\\maker\\anaconda\\lib\\site-packages (from requests->dash) (2022.9.14)\n",
      "Requirement already satisfied: charset-normalizer<3,>=2 in c:\\users\\maker\\anaconda\\lib\\site-packages (from requests->dash) (2.0.4)\n",
      "Requirement already satisfied: urllib3<1.27,>=1.21.1 in c:\\users\\maker\\anaconda\\lib\\site-packages (from requests->dash) (1.26.11)\n",
      "Requirement already satisfied: six>=1.7.0 in c:\\users\\maker\\anaconda\\lib\\site-packages (from retrying->dash) (1.16.0)\n",
      "Requirement already satisfied: colorama in c:\\users\\maker\\anaconda\\lib\\site-packages (from click>=5.1->Flask<3.1,>=1.0.4->dash) (0.4.5)\n",
      "Requirement already satisfied: MarkupSafe>=0.23 in c:\\users\\maker\\anaconda\\lib\\site-packages (from Jinja2>=2.10.1->Flask<3.1,>=1.0.4->dash) (2.0.1)\n",
      "Note: you may need to restart the kernel to use updated packages.\n"
     ]
    }
   ],
   "source": [
    "pip install dash dash-renderer dash-html-components dash-core-components\n"
   ]
  },
  {
   "cell_type": "code",
   "execution_count": 16,
   "metadata": {},
   "outputs": [
    {
     "name": "stdout",
     "output_type": "stream",
     "text": [
      "Requirement already satisfied: scikit-learn in c:\\users\\maker\\anaconda\\lib\\site-packages (1.3.2)\n",
      "Requirement already satisfied: numpy<2.0,>=1.17.3 in c:\\users\\maker\\anaconda\\lib\\site-packages (from scikit-learn) (1.21.5)\n",
      "Requirement already satisfied: joblib>=1.1.1 in c:\\users\\maker\\anaconda\\lib\\site-packages (from scikit-learn) (1.3.2)\n",
      "Requirement already satisfied: threadpoolctl>=2.0.0 in c:\\users\\maker\\anaconda\\lib\\site-packages (from scikit-learn) (2.2.0)\n",
      "Requirement already satisfied: scipy>=1.5.0 in c:\\users\\maker\\anaconda\\lib\\site-packages (from scikit-learn) (1.9.1)\n",
      "Note: you may need to restart the kernel to use updated packages.\n"
     ]
    }
   ],
   "source": [
    "pip install --upgrade scikit-learn\n"
   ]
  },
  {
   "cell_type": "code",
   "execution_count": 17,
   "metadata": {},
   "outputs": [
    {
     "name": "stdout",
     "output_type": "stream",
     "text": [
      "Requirement already satisfied: pulp in c:\\users\\maker\\anaconda\\lib\\site-packages (2.7.0)\n",
      "Note: you may need to restart the kernel to use updated packages.\n"
     ]
    }
   ],
   "source": [
    "pip install pulp"
   ]
  },
  {
   "cell_type": "markdown",
   "metadata": {},
   "source": [
    "Importing Libraries"
   ]
  },
  {
   "cell_type": "markdown",
   "metadata": {},
   "source": [
    "Loading power allocation data, optimizes the allocations for customers to maximize job creation, and visualizing the results by comparing the current and optimized allocations. Performing optimisation using linear programming."
   ]
  },
  {
   "cell_type": "code",
   "execution_count": 18,
   "metadata": {},
   "outputs": [],
   "source": [
    "import pandas as pd\n",
    "import matplotlib.pyplot as plt\n",
    "import seaborn as sns\n",
    "import pulp "
   ]
  },
  {
   "cell_type": "code",
   "execution_count": 19,
   "metadata": {},
   "outputs": [
    {
     "data": {
      "text/plain": [
       "<AxesSubplot:xlabel='Jobs Committed', ylabel='Count'>"
      ]
     },
     "execution_count": 19,
     "metadata": {},
     "output_type": "execute_result"
    },
    {
     "data": {
      "image/png": "[encoded data removed]",
      "text/plain": [
       "<Figure size 640x480 with 1 Axes>"
      ]
     },
     "metadata": {},
     "output_type": "display_data"
    }
   ],
   "source": [
    "df = pd.read_csv('Hydropower_Allocations.csv')\n",
    "sns.histplot(df['Jobs Committed'])\n",
    "# Checking for correlation between allocations and jobs committed\n"
   ]
  },
  {
   "cell_type": "code",
   "execution_count": 20,
   "metadata": {},
   "outputs": [
    {
     "data": {
      "image/png": "[encoded data removed]",
      "text/plain": [
       "<Figure size 640x480 with 1 Axes>"
      ]
     },
     "metadata": {},
     "output_type": "display_data"
    }
   ],
   "source": [
    "plt.scatter(df['Allocation (kW)'], df['Jobs Committed'])\n",
    "plt.xlabel('Allocation (kW)')\n",
    "plt.ylabel('Jobs Committed')\n",
    "plt.show()\n",
    "\n",
    "#Checking for correlation between allocations and jobs commited"
   ]
  },
  {
   "cell_type": "code",
   "execution_count": 21,
   "metadata": {},
   "outputs": [],
   "source": [
    "customers = df['Customer'].unique().tolist()\n",
    "\n",
    "# Hypothetical example where each kW of power is assumed to create 0.05 jobs\n",
    "jobs_per_kw = 0.05\n",
    "\n",
    "#Assumign a contant rate of 0.05 jobs per KW of power allocated\n",
    "\n",
    "jobs_created = {customer: jobs_per_kw * df[df['Customer'] == customer]['Allocation (kW)'].sum() for customer in customers}\n",
    "#calculating the number of jovs created for each customer based on their power allocation"
   ]
  },
  {
   "cell_type": "code",
   "execution_count": 22,
   "metadata": {},
   "outputs": [],
   "source": [
    "\n",
    "jobs_created = {}\n",
    "\n",
    "for customer in customers:\n",
    "    # Sum up all allocations for the customer if there are multiple rows\n",
    "    total_allocation = df.loc[df['Customer'] == customer, 'Allocation (kW)'].sum()\n",
    "    jobs_created[customer] = jobs_per_kw * total_allocation\n",
    "\n",
    "#Storing the results of the jobs created on a dictionary\n",
    "\n"
   ]
  },
  {
   "cell_type": "code",
   "execution_count": 23,
   "metadata": {},
   "outputs": [],
   "source": [
    "max_allocation = df.set_index('Customer')['Allocation (kW)'].to_dict()\n",
    "#Calculating the number of jobs created fo each customer based on their power allocation \n",
    "\n",
    "min_allocation = {customer: 0.8 * max_allocation[customer] for customer in customers}\n",
    "#Setting the minimun allocation for each customer which is set to 80% of their max allocation "
   ]
  },
  {
   "cell_type": "code",
   "execution_count": 24,
   "metadata": {},
   "outputs": [
    {
     "data": {
      "text/plain": [
       "1"
      ]
     },
     "execution_count": 24,
     "metadata": {},
     "output_type": "execute_result"
    }
   ],
   "source": [
    "prob = pulp.LpProblem(\"Hydropower_Optimization\", pulp.LpMaximize)\n",
    "#Setting up linear programming using PULP library\n",
    "\n",
    "power_allocations = pulp.LpVariable.dicts(\"Allocation\", customers, lowBound=0)\n",
    "#Defining decision variiables for each customer's power allocation, setting the lower bound to 0\n",
    "\n",
    "prob += pulp.lpSum([jobs_created[customer] * power_allocations[customer] for customer in customers])\n",
    "#Defininf objective function ro maximize total jobs created by optimizing power allocatipns\n",
    "\n",
    "for customer in customers:\n",
    "    prob += power_allocations[customer] <= max_allocation[customer]\n",
    "    prob += power_allocations[customer] >= min_allocation[customer]\n",
    "#Setting constraints to ensure power allocations don't exceed the maxinmum and minimum limits for each customer\n",
    "\n",
    "prob.solve()\n",
    "#Solving the optimization problem"
   ]
  },
  {
   "cell_type": "code",
   "execution_count": 25,
   "metadata": {},
   "outputs": [
    {
     "name": "stdout",
     "output_type": "stream",
     "text": [
      "Status: Optimal\n",
      "Allocation for 3M Company: 5460.0\n",
      "Allocation for ADM Milling Company: 1900.0\n",
      "Allocation for Advance 2000, Inc.: 120.0\n",
      "Allocation for Air Products and Chemicals, Inc.: 10000.0\n",
      "Allocation for Alcoa (West): 240000.0\n",
      "Allocation for Amazon.com Services LLC: 10660.0\n",
      "Allocation for Amcor Rigid Packaging USA, LLC: 1750.0\n",
      "Allocation for Americold Real Estate, L.P.: 830.0\n",
      "Allocation for API Heat Transfer, Inc.: 100.0\n",
      "Allocation for Arconic Inc.: 5000.0\n",
      "Allocation for Ashland Advanced Materials LLC: 340.0\n",
      "Allocation for Ashton Potter (USA) LTD: 340.0\n",
      "Allocation for ATI Allvac: 300.0\n",
      "Allocation for Aurubis Buffalo, Inc.: 2800.0\n",
      "Allocation for BlackRock Niagara LLC: 200.0\n",
      "Allocation for Brunner, Inc.: 640.0\n",
      "Allocation for Buffalo Newspress Inc.: 200.0\n",
      "Allocation for Buffalo Tungsten Incorporated: 800.0\n",
      "Allocation for Cascades Holding US Inc.: 7000.0\n",
      "Allocation for CCL Label Inc.: 250.0\n",
      "Allocation for CertainTeed Corporation: 2400.0\n",
      "Allocation for Chocolate Delivery Systems, Inc.: 4210.0\n",
      "Allocation for Citigroup Technology, Inc.: 750.0\n",
      "Allocation for Cliffstar LLC: 400.0\n",
      "Allocation for Coal Ash Recycling, LLC: 2550.0\n",
      "Allocation for Cobham Mission Systems: 200.0\n",
      "Allocation for Commitment 2000, Inc.: 410.0\n",
      "Allocation for Confer Plastics, Inc.: 1100.0\n",
      "Allocation for Confluent Energies, Inc.: 16000.0\n",
      "Allocation for Convalt Manufacturing LLC: 3400.0\n",
      "Allocation for Corning Incorporated: 2100.0\n",
      "Allocation for Cummins Inc.: 2010.0\n",
      "Allocation for CWT Farms International, Inc.: 320.0\n",
      "Allocation for Delaco AMTB, LLC: 100.0\n",
      "Allocation for DKP Buffalo, LLC: 750.0\n",
      "Allocation for Dunkirk Specialty Steel, LLC: 5250.0\n",
      "Allocation for DuPont Specialty Products USA, LLC: 640.0\n",
      "Allocation for Edwards Vacuum LLC: 4900.0\n",
      "Allocation for Empire State Mines, LLC: 2000.0\n",
      "Allocation for EnerPlate LLC: 16000.0\n",
      "Allocation for EZ STAK LLC: 670.0\n",
      "Allocation for Finger Food Products, LLC.: 80.0\n",
      "Allocation for Flexo Transparent, LLC: 120.0\n",
      "Allocation for Ford Motor Company: 1000.0\n",
      "Allocation for Fresenius Kabi USA, LLC: 2000.0\n",
      "Allocation for GEICO: 400.0\n",
      "Allocation for General Mills Operations, LLC: 3100.0\n",
      "Allocation for General Motors LLC: 2000.0\n",
      "Allocation for Global Abrasive Products, Inc.: 120.0\n",
      "Allocation for GM Components Holdings, LLC: 3900.0\n",
      "Allocation for Graphic Controls Acquisition Corp.: 550.0\n",
      "Allocation for Greatbatch Inc: 1500.0\n",
      "Allocation for Greenpac Mill, LLC: 12500.0\n",
      "Allocation for Habasit America, Inc.: 440.0\n",
      "Allocation for Hammond Manufacturing Company Inc.: 100.0\n",
      "Allocation for Honeywell International: 300.0\n",
      "Allocation for Hurtubise Tire, Inc.: 100.0\n",
      "Allocation for Hydro-Air Components, Inc.: 250.0\n",
      "Allocation for I Squared R Element Co., Inc.: 1300.0\n",
      "Allocation for Imerys Fused Minerals Niagara Falls, Inc.: 400.0\n",
      "Allocation for Ingram Micro, Inc.: 900.0\n",
      "Allocation for Innomotive Solutions Group LLC: 420.0\n",
      "Allocation for International Imaging Materials: 200.0\n",
      "Allocation for Kreher's Sunrise Farm, LLC: 100.0\n",
      "Allocation for Lake Mariner Data LLC: 10000.0\n",
      "Allocation for Linde Inc.: 750.0\n",
      "Allocation for Lockheed Martin Corporation: 200.0\n",
      "Allocation for LW1 Operator, LLC: 2930.0\n",
      "Allocation for M&T Bank: 1050.0\n",
      "Allocation for Maclean Curtis, LLC: 1000.0\n",
      "Allocation for Mahle Behr Troy, Inc.: 1000.0\n",
      "Allocation for Mayer Bros. Apple Products Inc.: 200.0\n",
      "Allocation for Messer LLC - Buffalo Facility: 10500.0\n",
      "Allocation for MOD-PAC Corp.: 150.0\n",
      "Allocation for Moldtech, Inc.: 100.0\n",
      "Allocation for Mono-Systems, Inc.: 180.0\n",
      "Allocation for Moog Inc.: 1690.0\n",
      "Allocation for Nestle Purina PetCare Company: 1020.0\n",
      "Allocation for Niacet Corporation: 5110.0\n",
      "Allocation for Niagara Coatings Services, Inc.: 200.0\n",
      "Allocation for Niagara Falls Water Board: 1425.0\n",
      "Allocation for Niagara Refining LLC: 2500.0\n",
      "Allocation for Niagara Sheets, LLC: 400.0\n",
      "Allocation for Niagara Specialty Metals, Inc.: 700.0\n",
      "Allocation for Nuttall Gear Company: 350.0\n",
      "Allocation for Oath Holdings, Inc.: 6000.0\n",
      "Allocation for Olin Corporation: 2000.0\n",
      "Allocation for PCB Piezotronics, Inc.: 200.0\n",
      "Allocation for PeroxyChem LLC: 2500.0\n",
      "Allocation for Pine Pharmaceuticals LLC: 400.0\n",
      "Allocation for Plug Power Inc.: 50000.0\n",
      "Allocation for Polymer Conversions, Inc.: 300.0\n",
      "Allocation for Potsdam Specialty Paper, Inc.: 400.0\n",
      "Allocation for Precious Plate, Inc.: 210.0\n",
      "Allocation for Premium PPE, LLC: 100.0\n",
      "Allocation for Pride Pak Canada Ltd.: 1000.0\n",
      "Allocation for Protective Industries, Inc.: 1660.0\n",
      "Allocation for Pyrotek, Inc.: 400.0\n",
      "Allocation for Republic Steel: 2287.0\n",
      "Allocation for Rosina Food Products, Inc.: 250.0\n",
      "Allocation for Roth Industries USA: 600.0\n",
      "Allocation for RubberForm Recycled Products, LLC: 410.0\n",
      "Allocation for Saint-Gobain Advanced Ceramics - Boron Nitride: 2500.0\n",
      "Allocation for Saint-Gobain Advanced Structural Ceramics: 700.0\n",
      "Allocation for Saint-Gobain Ceramics & Plastics, Inc.: 1005.0\n",
      "Allocation for Servotronics, Inc.: 500.0\n",
      "Allocation for SGS Recovery, LLC: 750.0\n",
      "Allocation for Sonwil Distribution Center, Inc.: 500.0\n",
      "Allocation for Sorrento Lactalis, Inc.: 250.0\n",
      "Allocation for Sotek Inc./Belrix Industries, Inc.: 410.0\n",
      "Allocation for Special Metals Corporation: 950.0\n",
      "Allocation for Stavatti Aerospace Ltd: 2700.0\n",
      "Allocation for Steuben Foods Incorporated: 750.0\n",
      "Allocation for Stollberg, Inc.: 500.0\n",
      "Allocation for Sucro Real Estate NY LLC: 5000.0\n",
      "Allocation for Sumitomo Rubber USA, LLC: 2000.0\n",
      "Allocation for Surmet Ceramics Corporation: 640.0\n",
      "Allocation for TAM Ceramics Group of NY, LLC: 600.0\n",
      "Allocation for Thermo Fisher Scientific Inc.: 2270.0\n",
      "Allocation for Thinking Robot Studios Inc.: 2000.0\n",
      "Allocation for Time Release Sciences, Inc.: 180.0\n",
      "Allocation for Tops Market, LLC: 700.0\n",
      "Allocation for Tops Markets, LLC: 600.0\n",
      "Allocation for Trek, Inc.: 350.0\n",
      "Allocation for Trinity Packaging Corporation: 200.0\n",
      "Allocation for Try-It Distributing Co., Inc.: 350.0\n",
      "Allocation for Tulip Molded Plastics Corporation: 290.0\n",
      "Allocation for Unifrax I LLC: 1000.0\n",
      "Allocation for Unifrax I LLC - Sanborn: 1000.0\n",
      "Allocation for Unifrax I LLC - Tonawanda: 1900.0\n",
      "Allocation for Upstate Niagara Cooperative, Inc.: 350.0\n",
      "Allocation for Washington Mills Electro Minerals Corp: 5250.0\n",
      "Allocation for Washington Mills Tonawanda, Inc.: 250.0\n",
      "Allocation for Welded Tube USA, Inc.: 2870.0\n",
      "Allocation for Wells Enterprises, Inc.: 1000.0\n",
      "Allocation for Western New York Energy, LLC: 700.0\n",
      "Allocation for WestRock CP, LLC: 900.0\n",
      "Allocation for Worksport USA Operations Corporation: 430.0\n"
     ]
    }
   ],
   "source": [
    "print(\"Status:\", pulp.LpStatus[prob.status])\n",
    "#Printing the status of the optimization\n",
    "\n",
    "for customer in customers:\n",
    "    print(f\"Allocation for {customer}: {power_allocations[customer].varValue}\")\n",
    "\n",
    "#Printing the optimziation allocation for each customer"
   ]
  },
  {
   "cell_type": "code",
   "execution_count": 26,
   "metadata": {},
   "outputs": [],
   "source": [
    "\n",
    "current_data = pd.Series(df['Allocation (kW)'].values, index=df['Customer']).to_dict()\n",
    "#Creating a dictionary to store the current power allocations for each customer"
   ]
  },
  {
   "cell_type": "code",
   "execution_count": 27,
   "metadata": {},
   "outputs": [
    {
     "data": {
      "image/png": "[encoded data removed]",
      "text/plain": [
       "<Figure size 640x480 with 1 Axes>"
      ]
     },
     "metadata": {},
     "output_type": "display_data"
    }
   ],
   "source": [
    "current_allocations = [current_data[customer] for customer in customers]\n",
    "optimized_allocations = [power_allocations[customer].varValue for customer in customers]\n",
    "\n",
    "index = range(len(customers))\n",
    "plt.bar(index, current_allocations, width=0.4, label='Current')\n",
    "plt.bar(index, optimized_allocations, width=0.4, label='Optimized', alpha=0.7)\n",
    "plt.xlabel('Customers')\n",
    "plt.ylabel('Power Allocation (kw)')\n",
    "plt.legend()\n",
    "plt.show()\n",
    "\n",
    "#Comparing current optimized allocatrions and visualizing them in a bar chart\n"
   ]
  },
  {
   "cell_type": "markdown",
   "metadata": {},
   "source": [
    "Adding a Machine Learning Model using Decision Trees"
   ]
  },
  {
   "cell_type": "markdown",
   "metadata": {},
   "source": [
    "Loading, Preprocessing, Training, and Evaluating a Decision Tree Regressor model for predicting 'Jobs Committed' based on the 'Allocation (kW)' feature. Performing cross-validation and hyperparameter tuning for model performance, assessment and improvement. "
   ]
  },
  {
   "cell_type": "code",
   "execution_count": 29,
   "metadata": {},
   "outputs": [],
   "source": [
    "import pandas as pd\n",
    "\n",
    "df = pd.read_csv('Hydropower_Allocations.csv')\n",
    "#Loading the datset into the dataframe\n",
    "\n",
    "for column in df.columns:\n",
    "    if df[column].dtype == 'object':\n",
    "        df[column] = pd.to_numeric(df[column], errors='coerce')\n",
    "\n",
    "# Identifingy non-numeric columns and converting them to numeric values to NaN\n",
    "\n",
    "df.fillna(df.median(), inplace=True)\n",
    "#Filling NaN values with the median of the respective columns\n"
   ]
  },
  {
   "cell_type": "code",
   "execution_count": 30,
   "metadata": {},
   "outputs": [
    {
     "name": "stdout",
     "output_type": "stream",
     "text": [
      "Customer           float64\n",
      "Program            float64\n",
      "City               float64\n",
      "County             float64\n",
      "Region             float64\n",
      "Allocation (kW)      int64\n",
      "Jobs Committed     float64\n",
      "Date               float64\n",
      "dtype: object\n",
      "Customer           310\n",
      "Program            310\n",
      "City               310\n",
      "County             310\n",
      "Region             310\n",
      "Allocation (kW)      0\n",
      "Jobs Committed       0\n",
      "Date               310\n",
      "dtype: int64\n"
     ]
    }
   ],
   "source": [
    "print(df.dtypes)\n",
    "print(df.isnull().sum())\n",
    "#Priting values of remaining NaN values and priniting the sum of values for each column"
   ]
  },
  {
   "cell_type": "code",
   "execution_count": 31,
   "metadata": {},
   "outputs": [
    {
     "name": "stdout",
     "output_type": "stream",
     "text": [
      "Root Mean Squared Error: 129.9332086845466\n"
     ]
    }
   ],
   "source": [
    "from sklearn.model_selection import train_test_split\n",
    "from sklearn.tree import DecisionTreeRegressor\n",
    "from sklearn.metrics import mean_squared_error\n",
    "import numpy as np\n",
    "\n",
    "\n",
    "X = df[['Allocation (kW)']] \n",
    "y = df['Jobs Committed']\n",
    "# Assuming 'Allocation (kW)' as the feature X and 'Jobs Committed' as the target y for regression\n",
    "\n",
    "X_train, X_test, y_train, y_test = train_test_split(X, y, test_size=0.2, random_state=42)\n",
    "#Splitting the dataset into training and testing sets \n",
    "\n",
    "model = DecisionTreeRegressor(random_state=42)\n",
    "model.fit(X_train, y_train)\n",
    "#Initialising Decision Tree Regressor with a fixed random state, trained and tested\n",
    "\n",
    "y_pred = model.predict(X_test)\n",
    "mse = mean_squared_error(y_test, y_pred)\n",
    "rmse = np.sqrt(mse)\n",
    "print(f\"Root Mean Squared Error: {rmse}\")\n",
    "#Calculating RMSE to evaluate model perforamnce "
   ]
  },
  {
   "cell_type": "code",
   "execution_count": 32,
   "metadata": {},
   "outputs": [
    {
     "name": "stdout",
     "output_type": "stream",
     "text": [
      "Predicted Jobs Committed: 57.36363636363637\n"
     ]
    }
   ],
   "source": [
    "input_value = 100  # Example input\n",
    "input_df = pd.DataFrame([[input_value]], columns=['Allocation (kW)'])  \n",
    "prediction = model.predict(input_df)\n",
    "print(f\"Predicted Jobs Committed: {prediction[0]}\")\n",
    "#Making a predicrtion using the trained model with using 100 as input value"
   ]
  },
  {
   "cell_type": "code",
   "execution_count": 33,
   "metadata": {},
   "outputs": [
    {
     "name": "stdout",
     "output_type": "stream",
     "text": [
      "Allocation (kW)    1.0\n",
      "dtype: float64\n"
     ]
    }
   ],
   "source": [
    "feature_importances = pd.Series(model.feature_importances_, index=X.columns)\n",
    "feature_importances.sort_values(inplace=True, ascending=False)\n",
    "print(feature_importances)\n",
    "#Calculating and printing feature imporances"
   ]
  },
  {
   "cell_type": "code",
   "execution_count": 34,
   "metadata": {},
   "outputs": [
    {
     "name": "stdout",
     "output_type": "stream",
     "text": [
      "Scores: [142.08432322 180.25418125  76.50780273 110.13770181 126.31358322]\n",
      "Mean: 127.05951844295006\n",
      "Standard deviation: 34.34471478680348\n"
     ]
    }
   ],
   "source": [
    "from sklearn.model_selection import cross_val_score\n",
    "\n",
    "scores = cross_val_score(model, X, y, cv=5, scoring='neg_mean_squared_error')\n",
    "#Performing 5-fold cross validation to assess nodel's performance of multiple splits of the data\n",
    "\n",
    "rmse_scores = np.sqrt(-scores)\n",
    "print(f\"Scores: {rmse_scores}\")\n",
    "print(f\"Mean: {rmse_scores.mean()}\")\n",
    "print(f\"Standard deviation: {rmse_scores.std()}\")\n",
    "#Calculating RMSE for each fold, printing score, mean and sd of RMSE scores"
   ]
  },
  {
   "cell_type": "code",
   "execution_count": 35,
   "metadata": {},
   "outputs": [
    {
     "name": "stdout",
     "output_type": "stream",
     "text": [
      "Best parameters: {'max_depth': 3, 'min_samples_leaf': 1}\n"
     ]
    }
   ],
   "source": [
    "from sklearn.model_selection import GridSearchCV\n",
    "\n",
    "param_grid = {'max_depth': [3, 5, 10], 'min_samples_leaf': [1, 2, 4]}\n",
    "#Setting up grid of hyperparameters to be explored using grid search\n",
    "\n",
    "grid_search = GridSearchCV(model, param_grid, cv=5, scoring='neg_mean_squared_error', return_train_score=True)\n",
    "grid_search.fit(X_train, y_train)\n",
    "#Performing grid search with 5-fold cross validation and negative mse ans the scoring metric\n",
    "\n",
    "print(f\"Best parameters: {grid_search.best_params_}\")\n",
    "#Printing best hyperparameters found by using grid search"
   ]
  },
  {
   "cell_type": "code",
   "execution_count": 36,
   "metadata": {},
   "outputs": [],
   "source": [
    "import warnings\n",
    "\n",
    "warnings.filterwarnings(\"ignore\", category=UserWarning, message=\"X does not have valid feature names\")\n",
    "#Suppress speciifc warning related to feature neames"
   ]
  },
  {
   "cell_type": "markdown",
   "metadata": {},
   "source": [
    "Creating A Dashboard"
   ]
  },
  {
   "cell_type": "markdown",
   "metadata": {},
   "source": [
    "Here we create a virtual dashboard using Dash to visualisze the results. Create a virtual dashboard to create the results"
   ]
  },
  {
   "cell_type": "code",
   "execution_count": 38,
   "metadata": {},
   "outputs": [
    {
     "data": {
      "text/html": [
       "\n",
       "        <iframe\n",
       "            width=\"100%\"\n",
       "            height=\"650\"\n",
       "            src=\"http://127.0.0.1:8050/\"\n",
       "            frameborder=\"0\"\n",
       "            allowfullscreen\n",
       "            \n",
       "        ></iframe>\n",
       "        "
      ],
      "text/plain": [
       "<IPython.lib.display.IFrame at 0x2f07cf870a0>"
      ]
     },
     "metadata": {},
     "output_type": "display_data"
    }
   ],
   "source": [
    "import dash\n",
    "from dash import html, dcc\n",
    "from dash.dependencies import Input, Output\n",
    "import plotly.graph_objs as go\n",
    "#Importing necessary libraries \n",
    "\n",
    "def mock_predict(input_value):\n",
    "    return input_value / 1000\n",
    "#Defining function for making predictions\n",
    "\n",
    "app = dash.Dash(__name__)\n",
    "#Initialiing dash application\n",
    "\n",
    "app.layout = html.Div(style={'fontFamily': 'Arial, sans-serif', 'backgroundColor': '#F5F5F5', 'height': '100vh', 'display': 'flex', 'flexDirection': 'column', 'alignItems': 'center', 'justifyContent': 'center'}, children=[\n",
    "    html.H1(\"Forecasted Job Growth per Hydro-Power Allocation Unit\", style={'textAlign': 'center', 'color': 'darkblue'}),\n",
    "    html.Div(style={'width': '68%', 'display': 'flex', 'flexDirection': 'column', 'alignItems': 'center'}, children=[\n",
    "        dcc.Graph(id='prediction-graph', figure={}),  # Display the chart here\n",
    "        html.Div(style={'textAlign': 'center'}, children=[\n",
    "            html.Label(\"Enter Allocation (kW):\", style={'fontSize': 16, 'fontWeight': 'bold', 'color': 'darkblue'}),\n",
    "            dcc.Input(id='input-allocation', type='number', value=1000, style={'width': '100%', 'padding': '10px', 'fontSize': 16, 'border': '2px solid darkblue', 'borderRadius': '5px', 'marginBottom': '10px'}),\n",
    "            html.Button('Predict Jobs', id='predict-button', style={'width': '100%', 'backgroundColor': 'darkblue', 'color': 'white', 'fontSize': 16, 'fontWeight': 'bold', 'border': 'none', 'padding': '10px', 'cursor': 'pointer'})\n",
    "        ])\n",
    "    ]),\n",
    "])\n",
    "#Defining layout of the web app, including title, graph to display prediction, input field to enter allocation value and button to trigger prediction\n",
    "\n",
    "@app.callback(\n",
    "    Output('prediction-graph', 'figure'),\n",
    "    [Input('predict-button', 'n_clicks')],\n",
    "    [dash.dependencies.State('input-allocation', 'value')]\n",
    ")\n",
    "#Setting up callback function \n",
    "\n",
    "def update_graph(n_clicks, allocation):\n",
    "    if n_clicks:\n",
    "        predicted_jobs = mock_predict(allocation)\n",
    "\n",
    "        fig = go.Figure(go.Indicator(\n",
    "            mode='gauge+number',\n",
    "            value=predicted_jobs,\n",
    "            domain={'x': [0, 1], 'y': [0, 1]},\n",
    "            title={'text': 'Predicted Jobs'},\n",
    "            gauge={'axis': {'range': [None, 100]}, 'bar': {'color': 'red'}}\n",
    "        ))\n",
    "        #Taking value entered to generate a job growth prediction\n",
    "\n",
    "        fig.update_layout(\n",
    "            paper_bgcolor='#F5F5F5',\n",
    "            font=dict(size=16, color='black', family='Arial, sans-serif')\n",
    "        )\n",
    "        #Creating gauge chart using Plotly to display predicted job growth\n",
    "\n",
    "        return fig\n",
    "    else:\n",
    "        return {} \n",
    "        #Updating chart with predicted job value and configuring appearance \n",
    "\n",
    "if __name__ == '__main__':\n",
    "    app.run_server(debug=True)\n",
    "\n",
    "#Starting dash development server, allowing to access web application locally for testing and visualization"
   ]
  }
 ],
 "metadata": {
  "kernelspec": {
   "display_name": "base",
   "language": "python",
   "name": "python3"
  },
  "language_info": {
   "codemirror_mode": {
    "name": "ipython",
    "version": 3
   },
   "file_extension": ".py",
   "mimetype": "text/x-python",
   "name": "python",
   "nbconvert_exporter": "python",
   "pygments_lexer": "ipython3",
   "version": "3.9.13"
  }
 },
 "nbformat": 4,
 "nbformat_minor": 2
}
