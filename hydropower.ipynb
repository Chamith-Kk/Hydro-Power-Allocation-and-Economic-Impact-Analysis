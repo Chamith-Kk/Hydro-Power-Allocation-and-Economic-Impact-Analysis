{
 "cells": [
  {
   "cell_type": "code",
   "execution_count": 159,
   "metadata": {},
   "outputs": [
    {
     "name": "stdout",
     "output_type": "stream",
     "text": [
      "Requirement already satisfied: pandas in c:\\users\\maker\\anaconda\\lib\\site-packages (1.4.4)\n",
      "Requirement already satisfied: numpy in c:\\users\\maker\\anaconda\\lib\\site-packages (1.21.5)\n",
      "Requirement already satisfied: scipy in c:\\users\\maker\\anaconda\\lib\\site-packages (1.9.1)\n",
      "Requirement already satisfied: matplotlib in c:\\users\\maker\\anaconda\\lib\\site-packages (3.5.2)\n",
      "Requirement already satisfied: seaborn in c:\\users\\maker\\anaconda\\lib\\site-packages (0.11.2)\n",
      "Requirement already satisfied: jupyter in c:\\users\\maker\\anaconda\\lib\\site-packages (1.0.0)\n",
      "Requirement already satisfied: python-dateutil>=2.8.1 in c:\\users\\maker\\anaconda\\lib\\site-packages (from pandas) (2.8.2)\n",
      "Requirement already satisfied: pytz>=2020.1 in c:\\users\\maker\\anaconda\\lib\\site-packages (from pandas) (2022.1)\n",
      "Requirement already satisfied: kiwisolver>=1.0.1 in c:\\users\\maker\\anaconda\\lib\\site-packages (from matplotlib) (1.4.2)\n",
      "Requirement already satisfied: pillow>=6.2.0 in c:\\users\\maker\\anaconda\\lib\\site-packages (from matplotlib) (9.2.0)\n",
      "Requirement already satisfied: fonttools>=4.22.0 in c:\\users\\maker\\anaconda\\lib\\site-packages (from matplotlib) (4.25.0)\n",
      "Requirement already satisfied: packaging>=20.0 in c:\\users\\maker\\anaconda\\lib\\site-packages (from matplotlib) (21.3)\n",
      "Requirement already satisfied: pyparsing>=2.2.1 in c:\\users\\maker\\anaconda\\lib\\site-packages (from matplotlib) (3.0.9)\n",
      "Requirement already satisfied: cycler>=0.10 in c:\\users\\maker\\anaconda\\lib\\site-packages (from matplotlib) (0.11.0)\n",
      "Requirement already satisfied: ipywidgets in c:\\users\\maker\\anaconda\\lib\\site-packages (from jupyter) (7.6.5)\n",
      "Requirement already satisfied: jupyter-console in c:\\users\\maker\\anaconda\\lib\\site-packages (from jupyter) (6.4.3)\n",
      "Requirement already satisfied: nbconvert in c:\\users\\maker\\anaconda\\lib\\site-packages (from jupyter) (6.4.4)\n",
      "Requirement already satisfied: notebook in c:\\users\\maker\\anaconda\\lib\\site-packages (from jupyter) (6.4.12)\n",
      "Requirement already satisfied: qtconsole in c:\\users\\maker\\anaconda\\lib\\site-packages (from jupyter) (5.2.2)\n",
      "Requirement already satisfied: ipykernel in c:\\users\\maker\\anaconda\\lib\\site-packages (from jupyter) (6.15.2)\n",
      "Requirement already satisfied: six>=1.5 in c:\\users\\maker\\anaconda\\lib\\site-packages (from python-dateutil>=2.8.1->pandas) (1.16.0)\n",
      "Requirement already satisfied: pyzmq>=17 in c:\\users\\maker\\anaconda\\lib\\site-packages (from ipykernel->jupyter) (23.2.0)\n",
      "Requirement already satisfied: traitlets>=5.1.0 in c:\\users\\maker\\anaconda\\lib\\site-packages (from ipykernel->jupyter) (5.1.1)\n",
      "Requirement already satisfied: matplotlib-inline>=0.1 in c:\\users\\maker\\anaconda\\lib\\site-packages (from ipykernel->jupyter) (0.1.6)\n",
      "Requirement already satisfied: nest-asyncio in c:\\users\\maker\\anaconda\\lib\\site-packages (from ipykernel->jupyter) (1.5.5)\n",
      "Requirement already satisfied: jupyter-client>=6.1.12 in c:\\users\\maker\\anaconda\\lib\\site-packages (from ipykernel->jupyter) (7.3.4)\n",
      "Requirement already satisfied: debugpy>=1.0 in c:\\users\\maker\\anaconda\\lib\\site-packages (from ipykernel->jupyter) (1.5.1)\n",
      "Requirement already satisfied: tornado>=6.1 in c:\\users\\maker\\anaconda\\lib\\site-packages (from ipykernel->jupyter) (6.1)\n",
      "Requirement already satisfied: ipython>=7.23.1 in c:\\users\\maker\\anaconda\\lib\\site-packages (from ipykernel->jupyter) (7.31.1)\n",
      "Requirement already satisfied: psutil in c:\\users\\maker\\anaconda\\lib\\site-packages (from ipykernel->jupyter) (5.9.0)\n",
      "Requirement already satisfied: nbformat>=4.2.0 in c:\\users\\maker\\anaconda\\lib\\site-packages (from ipywidgets->jupyter) (5.5.0)\n",
      "Requirement already satisfied: jupyterlab-widgets>=1.0.0 in c:\\users\\maker\\anaconda\\lib\\site-packages (from ipywidgets->jupyter) (1.0.0)\n",
      "Requirement already satisfied: ipython-genutils~=0.2.0 in c:\\users\\maker\\anaconda\\lib\\site-packages (from ipywidgets->jupyter) (0.2.0)\n",
      "Requirement already satisfied: widgetsnbextension~=3.5.0 in c:\\users\\maker\\anaconda\\lib\\site-packages (from ipywidgets->jupyter) (3.5.2)\n",
      "Requirement already satisfied: prompt-toolkit!=3.0.0,!=3.0.1,<3.1.0,>=2.0.0 in c:\\users\\maker\\anaconda\\lib\\site-packages (from jupyter-console->jupyter) (3.0.20)\n",
      "Requirement already satisfied: pygments in c:\\users\\maker\\anaconda\\lib\\site-packages (from jupyter-console->jupyter) (2.14.0)\n",
      "Requirement already satisfied: jinja2>=2.4 in c:\\users\\maker\\anaconda\\lib\\site-packages (from nbconvert->jupyter) (2.11.3)\n",
      "Requirement already satisfied: testpath in c:\\users\\maker\\anaconda\\lib\\site-packages (from nbconvert->jupyter) (0.6.0)\n",
      "Requirement already satisfied: jupyter-core in c:\\users\\maker\\anaconda\\lib\\site-packages (from nbconvert->jupyter) (4.11.1)\n",
      "Requirement already satisfied: defusedxml in c:\\users\\maker\\anaconda\\lib\\site-packages (from nbconvert->jupyter) (0.7.1)\n",
      "Requirement already satisfied: pandocfilters>=1.4.1 in c:\\users\\maker\\anaconda\\lib\\site-packages (from nbconvert->jupyter) (1.5.0)\n",
      "Requirement already satisfied: nbclient<0.6.0,>=0.5.0 in c:\\users\\maker\\anaconda\\lib\\site-packages (from nbconvert->jupyter) (0.5.13)\n",
      "Requirement already satisfied: jupyterlab-pygments in c:\\users\\maker\\anaconda\\lib\\site-packages (from nbconvert->jupyter) (0.1.2)\n",
      "Requirement already satisfied: mistune<2,>=0.8.1 in c:\\users\\maker\\anaconda\\lib\\site-packages (from nbconvert->jupyter) (0.8.4)\n",
      "Requirement already satisfied: bleach in c:\\users\\maker\\anaconda\\lib\\site-packages (from nbconvert->jupyter) (4.1.0)\n",
      "Requirement already satisfied: entrypoints>=0.2.2 in c:\\users\\maker\\anaconda\\lib\\site-packages (from nbconvert->jupyter) (0.4)\n",
      "Requirement already satisfied: beautifulsoup4 in c:\\users\\maker\\anaconda\\lib\\site-packages (from nbconvert->jupyter) (4.11.1)\n",
      "Requirement already satisfied: terminado>=0.8.3 in c:\\users\\maker\\anaconda\\lib\\site-packages (from notebook->jupyter) (0.13.1)\n",
      "Requirement already satisfied: argon2-cffi in c:\\users\\maker\\anaconda\\lib\\site-packages (from notebook->jupyter) (21.3.0)\n",
      "Requirement already satisfied: Send2Trash>=1.8.0 in c:\\users\\maker\\anaconda\\lib\\site-packages (from notebook->jupyter) (1.8.0)\n",
      "Requirement already satisfied: prometheus-client in c:\\users\\maker\\anaconda\\lib\\site-packages (from notebook->jupyter) (0.14.1)\n",
      "Requirement already satisfied: qtpy in c:\\users\\maker\\anaconda\\lib\\site-packages (from qtconsole->jupyter) (2.2.0)\n",
      "Requirement already satisfied: backcall in c:\\users\\maker\\anaconda\\lib\\site-packages (from ipython>=7.23.1->ipykernel->jupyter) (0.2.0)\n",
      "Requirement already satisfied: setuptools>=18.5 in c:\\users\\maker\\anaconda\\lib\\site-packages (from ipython>=7.23.1->ipykernel->jupyter) (63.4.1)\n",
      "Requirement already satisfied: pickleshare in c:\\users\\maker\\anaconda\\lib\\site-packages (from ipython>=7.23.1->ipykernel->jupyter) (0.7.5)\n",
      "Requirement already satisfied: jedi>=0.16 in c:\\users\\maker\\anaconda\\lib\\site-packages (from ipython>=7.23.1->ipykernel->jupyter) (0.18.1)\n",
      "Requirement already satisfied: colorama in c:\\users\\maker\\anaconda\\lib\\site-packages (from ipython>=7.23.1->ipykernel->jupyter) (0.4.5)\n",
      "Requirement already satisfied: decorator in c:\\users\\maker\\anaconda\\lib\\site-packages (from ipython>=7.23.1->ipykernel->jupyter) (5.1.1)\n",
      "Requirement already satisfied: MarkupSafe>=0.23 in c:\\users\\maker\\anaconda\\lib\\site-packages (from jinja2>=2.4->nbconvert->jupyter) (2.0.1)\n",
      "Requirement already satisfied: pywin32>=1.0 in c:\\users\\maker\\anaconda\\lib\\site-packages (from jupyter-core->nbconvert->jupyter) (302)\n",
      "Requirement already satisfied: jsonschema>=2.6 in c:\\users\\maker\\anaconda\\lib\\site-packages (from nbformat>=4.2.0->ipywidgets->jupyter) (4.16.0)\n",
      "Requirement already satisfied: fastjsonschema in c:\\users\\maker\\anaconda\\lib\\site-packages (from nbformat>=4.2.0->ipywidgets->jupyter) (2.16.2)\n",
      "Requirement already satisfied: wcwidth in c:\\users\\maker\\anaconda\\lib\\site-packages (from prompt-toolkit!=3.0.0,!=3.0.1,<3.1.0,>=2.0.0->jupyter-console->jupyter) (0.2.5)\n",
      "Requirement already satisfied: pywinpty>=1.1.0 in c:\\users\\maker\\anaconda\\lib\\site-packages (from terminado>=0.8.3->notebook->jupyter) (2.0.2)\n",
      "Requirement already satisfied: argon2-cffi-bindings in c:\\users\\maker\\anaconda\\lib\\site-packages (from argon2-cffi->notebook->jupyter) (21.2.0)\n",
      "Requirement already satisfied: soupsieve>1.2 in c:\\users\\maker\\anaconda\\lib\\site-packages (from beautifulsoup4->nbconvert->jupyter) (2.3.1)\n",
      "Requirement already satisfied: webencodings in c:\\users\\maker\\anaconda\\lib\\site-packages (from bleach->nbconvert->jupyter) (0.5.1)\n",
      "Requirement already satisfied: parso<0.9.0,>=0.8.0 in c:\\users\\maker\\anaconda\\lib\\site-packages (from jedi>=0.16->ipython>=7.23.1->ipykernel->jupyter) (0.8.3)\n",
      "Requirement already satisfied: attrs>=17.4.0 in c:\\users\\maker\\anaconda\\lib\\site-packages (from jsonschema>=2.6->nbformat>=4.2.0->ipywidgets->jupyter) (21.4.0)\n",
      "Requirement already satisfied: pyrsistent!=0.17.0,!=0.17.1,!=0.17.2,>=0.14.0 in c:\\users\\maker\\anaconda\\lib\\site-packages (from jsonschema>=2.6->nbformat>=4.2.0->ipywidgets->jupyter) (0.18.0)\n",
      "Requirement already satisfied: cffi>=1.0.1 in c:\\users\\maker\\anaconda\\lib\\site-packages (from argon2-cffi-bindings->argon2-cffi->notebook->jupyter) (1.15.1)\n",
      "Requirement already satisfied: pycparser in c:\\users\\maker\\anaconda\\lib\\site-packages (from cffi>=1.0.1->argon2-cffi-bindings->argon2-cffi->notebook->jupyter) (2.21)\n",
      "Note: you may need to restart the kernel to use updated packages.\n"
     ]
    }
   ],
   "source": [
    "pip install pandas numpy scipy matplotlib seaborn jupyter"
   ]
  },
  {
   "cell_type": "code",
   "execution_count": 160,
   "metadata": {},
   "outputs": [
    {
     "name": "stdout",
     "output_type": "stream",
     "text": [
      "Requirement already satisfied: pulp in c:\\users\\maker\\anaconda\\lib\\site-packages (2.7.0)\n",
      "Note: you may need to restart the kernel to use updated packages.\n"
     ]
    }
   ],
   "source": [
    "pip install pulp"
   ]
  },
  {
   "cell_type": "code",
   "execution_count": 161,
   "metadata": {},
   "outputs": [],
   "source": [
    "import pandas as pd\n",
    "import matplotlib.pyplot as plt\n",
    "import seaborn as sns\n",
    "import pulp "
   ]
  },
  {
   "cell_type": "code",
   "execution_count": 162,
   "metadata": {},
   "outputs": [
    {
     "data": {
      "text/plain": [
       "<AxesSubplot:xlabel='Jobs Committed', ylabel='Count'>"
      ]
     },
     "execution_count": 162,
     "metadata": {},
     "output_type": "execute_result"
    },
    {
     "data": {
      "image/png": "[encoded data removed]",
      "text/plain": [
       "<Figure size 640x480 with 1 Axes>"
      ]
     },
     "metadata": {},
     "output_type": "display_data"
    }
   ],
   "source": [
    "# Simple EDA - visualize the distribution of jobs committed\n",
    "df = pd.read_csv('Hydropower_Allocations.csv')\n",
    "sns.histplot(df['Jobs Committed'])\n",
    "# Check for correlation between allocations and jobs committed\n"
   ]
  },
  {
   "cell_type": "code",
   "execution_count": 163,
   "metadata": {},
   "outputs": [
    {
     "data": {
      "image/png": "[encoded data removed]",
      "text/plain": [
       "<Figure size 640x480 with 1 Axes>"
      ]
     },
     "metadata": {},
     "output_type": "display_data"
    }
   ],
   "source": [
    "# Check for correlation between allocations and jobs committed\n",
    "plt.scatter(df['Allocation (kW)'], df['Jobs Committed'])\n",
    "plt.xlabel('Allocation (kW)')\n",
    "plt.ylabel('Jobs Committed')\n",
    "plt.show()"
   ]
  },
  {
   "cell_type": "code",
   "execution_count": 164,
   "metadata": {},
   "outputs": [],
   "source": [
    "# Assuming 'Customer' is the column with customer names\n",
    "customers = df['Customer'].unique().tolist()\n",
    "\n",
    "# Hypothetical example where each kW of power is assumed to create 0.05 jobs\n",
    "# This is a simplification and should ideally be based on an analysis of historical data\n",
    "\n",
    "jobs_per_kw = 0.05\n",
    "\n",
    "# If you want to sum up all the allocations for a customer if they have multiple rows\n",
    "jobs_created = {customer: jobs_per_kw * df[df['Customer'] == customer]['Allocation (kW)'].sum() for customer in customers}"
   ]
  },
  {
   "cell_type": "code",
   "execution_count": 165,
   "metadata": {},
   "outputs": [],
   "source": [
    "\n",
    "\n",
    "# Dictionary to store the jobs created per customer based on their allocation\n",
    "jobs_created = {}\n",
    "\n",
    "for customer in customers:\n",
    "    # Sum up all allocations for the customer if there are multiple rows\n",
    "    total_allocation = df.loc[df['Customer'] == customer, 'Allocation (kW)'].sum()\n",
    "    jobs_created[customer] = jobs_per_kw * total_allocation\n"
   ]
  },
  {
   "cell_type": "code",
   "execution_count": 166,
   "metadata": {},
   "outputs": [],
   "source": [
    "max_allocation = df.set_index('Customer')['Allocation (kW)'].to_dict()\n",
    "min_allocation = {customer: 0.8 * max_allocation[customer] for customer in customers}"
   ]
  },
  {
   "cell_type": "code",
   "execution_count": 167,
   "metadata": {},
   "outputs": [
    {
     "data": {
      "text/plain": [
       "1"
      ]
     },
     "execution_count": 167,
     "metadata": {},
     "output_type": "execute_result"
    }
   ],
   "source": [
    "# Initialize the optimization problem\n",
    "prob = pulp.LpProblem(\"Hydropower_Optimization\", pulp.LpMaximize)\n",
    "\n",
    "# Define decision variables\n",
    "power_allocations = pulp.LpVariable.dicts(\"Allocation\", customers, lowBound=0)\n",
    "\n",
    "# Define objective function\n",
    "prob += pulp.lpSum([jobs_created[customer] * power_allocations[customer] for customer in customers])\n",
    "\n",
    "# Define constraints\n",
    "for customer in customers:\n",
    "    prob += power_allocations[customer] <= max_allocation[customer]\n",
    "    prob += power_allocations[customer] >= min_allocation[customer]\n",
    "\n",
    "# Solve the problem\n",
    "prob.solve()\n",
    "\n"
   ]
  },
  {
   "cell_type": "code",
   "execution_count": 168,
   "metadata": {},
   "outputs": [
    {
     "name": "stdout",
     "output_type": "stream",
     "text": [
      "Status: Optimal\n",
      "Allocation for 3M Company: 5460.0\n",
      "Allocation for ADM Milling Company: 1900.0\n",
      "Allocation for Advance 2000, Inc.: 120.0\n",
      "Allocation for Air Products and Chemicals, Inc.: 10000.0\n",
      "Allocation for Alcoa (West): 240000.0\n",
      "Allocation for Amazon.com Services LLC: 10660.0\n",
      "Allocation for Amcor Rigid Packaging USA, LLC: 1750.0\n",
      "Allocation for Americold Real Estate, L.P.: 830.0\n",
      "Allocation for API Heat Transfer, Inc.: 100.0\n",
      "Allocation for Arconic Inc.: 5000.0\n",
      "Allocation for Ashland Advanced Materials LLC: 340.0\n",
      "Allocation for Ashton Potter (USA) LTD: 340.0\n",
      "Allocation for ATI Allvac: 300.0\n",
      "Allocation for Aurubis Buffalo, Inc.: 2800.0\n",
      "Allocation for BlackRock Niagara LLC: 200.0\n",
      "Allocation for Brunner, Inc.: 640.0\n",
      "Allocation for Buffalo Newspress Inc.: 200.0\n",
      "Allocation for Buffalo Tungsten Incorporated: 800.0\n",
      "Allocation for Cascades Holding US Inc.: 7000.0\n",
      "Allocation for CCL Label Inc.: 250.0\n",
      "Allocation for CertainTeed Corporation: 2400.0\n",
      "Allocation for Chocolate Delivery Systems, Inc.: 4210.0\n",
      "Allocation for Citigroup Technology, Inc.: 750.0\n",
      "Allocation for Cliffstar LLC: 400.0\n",
      "Allocation for Coal Ash Recycling, LLC: 2550.0\n",
      "Allocation for Cobham Mission Systems: 200.0\n",
      "Allocation for Commitment 2000, Inc.: 410.0\n",
      "Allocation for Confer Plastics, Inc.: 1100.0\n",
      "Allocation for Confluent Energies, Inc.: 16000.0\n",
      "Allocation for Convalt Manufacturing LLC: 3400.0\n",
      "Allocation for Corning Incorporated: 2100.0\n",
      "Allocation for Cummins Inc.: 2010.0\n",
      "Allocation for CWT Farms International, Inc.: 320.0\n",
      "Allocation for Delaco AMTB, LLC: 100.0\n",
      "Allocation for DKP Buffalo, LLC: 750.0\n",
      "Allocation for Dunkirk Specialty Steel, LLC: 5250.0\n",
      "Allocation for DuPont Specialty Products USA, LLC: 640.0\n",
      "Allocation for Edwards Vacuum LLC: 4900.0\n",
      "Allocation for Empire State Mines, LLC: 2000.0\n",
      "Allocation for EnerPlate LLC: 16000.0\n",
      "Allocation for EZ STAK LLC: 670.0\n",
      "Allocation for Finger Food Products, LLC.: 80.0\n",
      "Allocation for Flexo Transparent, LLC: 120.0\n",
      "Allocation for Ford Motor Company: 1000.0\n",
      "Allocation for Fresenius Kabi USA, LLC: 2000.0\n",
      "Allocation for GEICO: 400.0\n",
      "Allocation for General Mills Operations, LLC: 3100.0\n",
      "Allocation for General Motors LLC: 2000.0\n",
      "Allocation for Global Abrasive Products, Inc.: 120.0\n",
      "Allocation for GM Components Holdings, LLC: 3900.0\n",
      "Allocation for Graphic Controls Acquisition Corp.: 550.0\n",
      "Allocation for Greatbatch Inc: 1500.0\n",
      "Allocation for Greenpac Mill, LLC: 12500.0\n",
      "Allocation for Habasit America, Inc.: 440.0\n",
      "Allocation for Hammond Manufacturing Company Inc.: 100.0\n",
      "Allocation for Honeywell International: 300.0\n",
      "Allocation for Hurtubise Tire, Inc.: 100.0\n",
      "Allocation for Hydro-Air Components, Inc.: 250.0\n",
      "Allocation for I Squared R Element Co., Inc.: 1300.0\n",
      "Allocation for Imerys Fused Minerals Niagara Falls, Inc.: 400.0\n",
      "Allocation for Ingram Micro, Inc.: 900.0\n",
      "Allocation for Innomotive Solutions Group LLC: 420.0\n",
      "Allocation for International Imaging Materials: 200.0\n",
      "Allocation for Kreher's Sunrise Farm, LLC: 100.0\n",
      "Allocation for Lake Mariner Data LLC: 10000.0\n",
      "Allocation for Linde Inc.: 750.0\n",
      "Allocation for Lockheed Martin Corporation: 200.0\n",
      "Allocation for LW1 Operator, LLC: 2930.0\n",
      "Allocation for M&T Bank: 1050.0\n",
      "Allocation for Maclean Curtis, LLC: 1000.0\n",
      "Allocation for Mahle Behr Troy, Inc.: 1000.0\n",
      "Allocation for Mayer Bros. Apple Products Inc.: 200.0\n",
      "Allocation for Messer LLC - Buffalo Facility: 10500.0\n",
      "Allocation for MOD-PAC Corp.: 150.0\n",
      "Allocation for Moldtech, Inc.: 100.0\n",
      "Allocation for Mono-Systems, Inc.: 180.0\n",
      "Allocation for Moog Inc.: 1690.0\n",
      "Allocation for Nestle Purina PetCare Company: 1020.0\n",
      "Allocation for Niacet Corporation: 5110.0\n",
      "Allocation for Niagara Coatings Services, Inc.: 200.0\n",
      "Allocation for Niagara Falls Water Board: 1425.0\n",
      "Allocation for Niagara Refining LLC: 2500.0\n",
      "Allocation for Niagara Sheets, LLC: 400.0\n",
      "Allocation for Niagara Specialty Metals, Inc.: 700.0\n",
      "Allocation for Nuttall Gear Company: 350.0\n",
      "Allocation for Oath Holdings, Inc.: 6000.0\n",
      "Allocation for Olin Corporation: 2000.0\n",
      "Allocation for PCB Piezotronics, Inc.: 200.0\n",
      "Allocation for PeroxyChem LLC: 2500.0\n",
      "Allocation for Pine Pharmaceuticals LLC: 400.0\n",
      "Allocation for Plug Power Inc.: 50000.0\n",
      "Allocation for Polymer Conversions, Inc.: 300.0\n",
      "Allocation for Potsdam Specialty Paper, Inc.: 400.0\n",
      "Allocation for Precious Plate, Inc.: 210.0\n",
      "Allocation for Premium PPE, LLC: 100.0\n",
      "Allocation for Pride Pak Canada Ltd.: 1000.0\n",
      "Allocation for Protective Industries, Inc.: 1660.0\n",
      "Allocation for Pyrotek, Inc.: 400.0\n",
      "Allocation for Republic Steel: 2287.0\n",
      "Allocation for Rosina Food Products, Inc.: 250.0\n",
      "Allocation for Roth Industries USA: 600.0\n",
      "Allocation for RubberForm Recycled Products, LLC: 410.0\n",
      "Allocation for Saint-Gobain Advanced Ceramics - Boron Nitride: 2500.0\n",
      "Allocation for Saint-Gobain Advanced Structural Ceramics: 700.0\n",
      "Allocation for Saint-Gobain Ceramics & Plastics, Inc.: 1005.0\n",
      "Allocation for Servotronics, Inc.: 500.0\n",
      "Allocation for SGS Recovery, LLC: 750.0\n",
      "Allocation for Sonwil Distribution Center, Inc.: 500.0\n",
      "Allocation for Sorrento Lactalis, Inc.: 250.0\n",
      "Allocation for Sotek Inc./Belrix Industries, Inc.: 410.0\n",
      "Allocation for Special Metals Corporation: 950.0\n",
      "Allocation for Stavatti Aerospace Ltd: 2700.0\n",
      "Allocation for Steuben Foods Incorporated: 750.0\n",
      "Allocation for Stollberg, Inc.: 500.0\n",
      "Allocation for Sucro Real Estate NY LLC: 5000.0\n",
      "Allocation for Sumitomo Rubber USA, LLC: 2000.0\n",
      "Allocation for Surmet Ceramics Corporation: 640.0\n",
      "Allocation for TAM Ceramics Group of NY, LLC: 600.0\n",
      "Allocation for Thermo Fisher Scientific Inc.: 2270.0\n",
      "Allocation for Thinking Robot Studios Inc.: 2000.0\n",
      "Allocation for Time Release Sciences, Inc.: 180.0\n",
      "Allocation for Tops Market, LLC: 700.0\n",
      "Allocation for Tops Markets, LLC: 600.0\n",
      "Allocation for Trek, Inc.: 350.0\n",
      "Allocation for Trinity Packaging Corporation: 200.0\n",
      "Allocation for Try-It Distributing Co., Inc.: 350.0\n",
      "Allocation for Tulip Molded Plastics Corporation: 290.0\n",
      "Allocation for Unifrax I LLC: 1000.0\n",
      "Allocation for Unifrax I LLC - Sanborn: 1000.0\n",
      "Allocation for Unifrax I LLC - Tonawanda: 1900.0\n",
      "Allocation for Upstate Niagara Cooperative, Inc.: 350.0\n",
      "Allocation for Washington Mills Electro Minerals Corp: 5250.0\n",
      "Allocation for Washington Mills Tonawanda, Inc.: 250.0\n",
      "Allocation for Welded Tube USA, Inc.: 2870.0\n",
      "Allocation for Wells Enterprises, Inc.: 1000.0\n",
      "Allocation for Western New York Energy, LLC: 700.0\n",
      "Allocation for WestRock CP, LLC: 900.0\n",
      "Allocation for Worksport USA Operations Corporation: 430.0\n"
     ]
    }
   ],
   "source": [
    "# Print the status of the optimization\n",
    "print(\"Status:\", pulp.LpStatus[prob.status])\n",
    "\n",
    "# Print the optimized allocations\n",
    "for customer in customers:\n",
    "    print(f\"Allocation for {customer}: {power_allocations[customer].varValue}\")\n",
    "\n",
    "# Analyze the results\n",
    "# (Here you could calculate the total jobs created, the total power allocated, etc.)"
   ]
  },
  {
   "cell_type": "code",
   "execution_count": 169,
   "metadata": {},
   "outputs": [],
   "source": [
    "# Create a dictionary for current allocations where keys are customer names and values are their current power allocations\n",
    "current_data = pd.Series(df['Allocation (kW)'].values, index=df['Customer']).to_dict()\n"
   ]
  },
  {
   "cell_type": "code",
   "execution_count": 170,
   "metadata": {},
   "outputs": [
    {
     "data": {
      "image/png": "[encoded data removed]",
      "text/plain": [
       "<Figure size 640x480 with 1 Axes>"
      ]
     },
     "metadata": {},
     "output_type": "display_data"
    }
   ],
   "source": [
    "\n",
    "# Example: Compare current and optimized allocations\n",
    "current_allocations = [current_data[customer] for customer in customers]\n",
    "optimized_allocations = [power_allocations[customer].varValue for customer in customers]\n",
    "\n",
    "index = range(len(customers))\n",
    "plt.bar(index, current_allocations, width=0.4, label='Current')\n",
    "plt.bar(index, optimized_allocations, width=0.4, label='Optimized', alpha=0.7)\n",
    "plt.xlabel('Customers')\n",
    "plt.ylabel('Power Allocation (kw)')\n",
    "plt.legend()\n",
    "plt.show()"
   ]
  },
  {
   "cell_type": "code",
   "execution_count": 171,
   "metadata": {},
   "outputs": [],
   "source": [
    "#Adding  a machine learning model using decision trees. Decision trees and versatile an interpretable ml model"
   ]
  },
  {
   "cell_type": "code",
   "execution_count": 172,
   "metadata": {},
   "outputs": [],
   "source": [
    "X.fillna(X.median(), inplace=True)\n",
    "y.fillna(y.median(), inplace=True)"
   ]
  },
  {
   "cell_type": "code",
   "execution_count": 173,
   "metadata": {},
   "outputs": [],
   "source": [
    "for col in X.columns:\n",
    "    if X[col].dtype == 'object':\n",
    "        try:\n",
    "            X[col] = pd.to_numeric(X[col], errors='coerce')\n",
    "        except ValueError as e:\n",
    "            print(f\"Column {col} contains non-numeric values\")"
   ]
  },
  {
   "cell_type": "code",
   "execution_count": 174,
   "metadata": {},
   "outputs": [
    {
     "name": "stdout",
     "output_type": "stream",
     "text": [
      "NaN values in X:\n",
      "Program            310\n",
      "City               310\n",
      "County             310\n",
      "Region             310\n",
      "Allocation (kW)      0\n",
      "Date               310\n",
      "dtype: int64\n",
      "NaN values in y:\n",
      "0\n"
     ]
    }
   ],
   "source": [
    "# Check for NaN values in X and y after conversion\n",
    "print(\"NaN values in X:\")\n",
    "print(X.isna().sum())\n",
    "\n",
    "print(\"NaN values in y:\")\n",
    "print(y.isna().sum())\n"
   ]
  },
  {
   "cell_type": "code",
   "execution_count": 175,
   "metadata": {},
   "outputs": [
    {
     "name": "stdout",
     "output_type": "stream",
     "text": [
      "Infinity values in X:\n",
      "Program            0.0\n",
      "City               0.0\n",
      "County             0.0\n",
      "Region             0.0\n",
      "Allocation (kW)    0.0\n",
      "Date               0.0\n",
      "dtype: float64\n"
     ]
    }
   ],
   "source": [
    "# Check for infinity values in X\n",
    "print(\"Infinity values in X:\")\n",
    "print(X[X == float('inf')].sum())"
   ]
  },
  {
   "cell_type": "code",
   "execution_count": 176,
   "metadata": {},
   "outputs": [],
   "source": [
    "# Data cleaning: Remove rows containing infinity values\n",
    "X = X[~X.isin([float('inf')]).any(axis=1)]\n",
    "y = y[~y.isin([float('inf')])]"
   ]
  },
  {
   "cell_type": "code",
   "execution_count": 177,
   "metadata": {},
   "outputs": [
    {
     "name": "stderr",
     "output_type": "stream",
     "text": [
      "c:\\Users\\Maker\\Anaconda\\lib\\site-packages\\sklearn\\preprocessing\\_data.py:461: RuntimeWarning: All-NaN slice encountered\n",
      "  data_min = np.nanmin(X, axis=0)\n",
      "c:\\Users\\Maker\\Anaconda\\lib\\site-packages\\sklearn\\preprocessing\\_data.py:462: RuntimeWarning: All-NaN slice encountered\n",
      "  data_max = np.nanmax(X, axis=0)\n"
     ]
    }
   ],
   "source": [
    "from sklearn.preprocessing import MinMaxScaler\n",
    "\n",
    "scaler = MinMaxScaler()\n",
    "X_scaled = scaler.fit_transform(X)"
   ]
  },
  {
   "cell_type": "code",
   "execution_count": 178,
   "metadata": {},
   "outputs": [],
   "source": [
    "from sklearn.tree import DecisionTreeRegressor\n",
    "from sklearn.model_selection import train_test_split"
   ]
  },
  {
   "cell_type": "code",
   "execution_count": 179,
   "metadata": {},
   "outputs": [
    {
     "ename": "ValueError",
     "evalue": "Input contains NaN, infinity or a value too large for dtype('float32').",
     "output_type": "error",
     "traceback": [
      "\u001b[1;31m---------------------------------------------------------------------------\u001b[0m",
      "\u001b[1;31mValueError\u001b[0m                                Traceback (most recent call last)",
      "\u001b[1;32m~\\AppData\\Local\\Temp\\ipykernel_21908\\3763640927.py\u001b[0m in \u001b[0;36m<module>\u001b[1;34m\u001b[0m\n\u001b[0;32m      4\u001b[0m \u001b[1;33m\u001b[0m\u001b[0m\n\u001b[0;32m      5\u001b[0m \u001b[1;31m# Train the model\u001b[0m\u001b[1;33m\u001b[0m\u001b[1;33m\u001b[0m\u001b[0m\n\u001b[1;32m----> 6\u001b[1;33m \u001b[0mmodel\u001b[0m\u001b[1;33m.\u001b[0m\u001b[0mfit\u001b[0m\u001b[1;33m(\u001b[0m\u001b[0mX_train\u001b[0m\u001b[1;33m,\u001b[0m \u001b[0my_train\u001b[0m\u001b[1;33m)\u001b[0m\u001b[1;33m\u001b[0m\u001b[1;33m\u001b[0m\u001b[0m\n\u001b[0m",
      "\u001b[1;32mc:\\Users\\Maker\\Anaconda\\lib\\site-packages\\sklearn\\tree\\_classes.py\u001b[0m in \u001b[0;36mfit\u001b[1;34m(self, X, y, sample_weight, check_input, X_idx_sorted)\u001b[0m\n\u001b[0;32m   1313\u001b[0m         \"\"\"\n\u001b[0;32m   1314\u001b[0m \u001b[1;33m\u001b[0m\u001b[0m\n\u001b[1;32m-> 1315\u001b[1;33m         super().fit(\n\u001b[0m\u001b[0;32m   1316\u001b[0m             \u001b[0mX\u001b[0m\u001b[1;33m,\u001b[0m\u001b[1;33m\u001b[0m\u001b[1;33m\u001b[0m\u001b[0m\n\u001b[0;32m   1317\u001b[0m             \u001b[0my\u001b[0m\u001b[1;33m,\u001b[0m\u001b[1;33m\u001b[0m\u001b[1;33m\u001b[0m\u001b[0m\n",
      "\u001b[1;32mc:\\Users\\Maker\\Anaconda\\lib\\site-packages\\sklearn\\tree\\_classes.py\u001b[0m in \u001b[0;36mfit\u001b[1;34m(self, X, y, sample_weight, check_input, X_idx_sorted)\u001b[0m\n\u001b[0;32m    163\u001b[0m             \u001b[0mcheck_X_params\u001b[0m \u001b[1;33m=\u001b[0m \u001b[0mdict\u001b[0m\u001b[1;33m(\u001b[0m\u001b[0mdtype\u001b[0m\u001b[1;33m=\u001b[0m\u001b[0mDTYPE\u001b[0m\u001b[1;33m,\u001b[0m \u001b[0maccept_sparse\u001b[0m\u001b[1;33m=\u001b[0m\u001b[1;34m\"csc\"\u001b[0m\u001b[1;33m)\u001b[0m\u001b[1;33m\u001b[0m\u001b[1;33m\u001b[0m\u001b[0m\n\u001b[0;32m    164\u001b[0m             \u001b[0mcheck_y_params\u001b[0m \u001b[1;33m=\u001b[0m \u001b[0mdict\u001b[0m\u001b[1;33m(\u001b[0m\u001b[0mensure_2d\u001b[0m\u001b[1;33m=\u001b[0m\u001b[1;32mFalse\u001b[0m\u001b[1;33m,\u001b[0m \u001b[0mdtype\u001b[0m\u001b[1;33m=\u001b[0m\u001b[1;32mNone\u001b[0m\u001b[1;33m)\u001b[0m\u001b[1;33m\u001b[0m\u001b[1;33m\u001b[0m\u001b[0m\n\u001b[1;32m--> 165\u001b[1;33m             X, y = self._validate_data(\n\u001b[0m\u001b[0;32m    166\u001b[0m                 \u001b[0mX\u001b[0m\u001b[1;33m,\u001b[0m \u001b[0my\u001b[0m\u001b[1;33m,\u001b[0m \u001b[0mvalidate_separately\u001b[0m\u001b[1;33m=\u001b[0m\u001b[1;33m(\u001b[0m\u001b[0mcheck_X_params\u001b[0m\u001b[1;33m,\u001b[0m \u001b[0mcheck_y_params\u001b[0m\u001b[1;33m)\u001b[0m\u001b[1;33m\u001b[0m\u001b[1;33m\u001b[0m\u001b[0m\n\u001b[0;32m    167\u001b[0m             )\n",
      "\u001b[1;32mc:\\Users\\Maker\\Anaconda\\lib\\site-packages\\sklearn\\base.py\u001b[0m in \u001b[0;36m_validate_data\u001b[1;34m(self, X, y, reset, validate_separately, **check_params)\u001b[0m\n\u001b[0;32m    576\u001b[0m                 \u001b[1;31m# :(\u001b[0m\u001b[1;33m\u001b[0m\u001b[1;33m\u001b[0m\u001b[0m\n\u001b[0;32m    577\u001b[0m                 \u001b[0mcheck_X_params\u001b[0m\u001b[1;33m,\u001b[0m \u001b[0mcheck_y_params\u001b[0m \u001b[1;33m=\u001b[0m \u001b[0mvalidate_separately\u001b[0m\u001b[1;33m\u001b[0m\u001b[1;33m\u001b[0m\u001b[0m\n\u001b[1;32m--> 578\u001b[1;33m                 \u001b[0mX\u001b[0m \u001b[1;33m=\u001b[0m \u001b[0mcheck_array\u001b[0m\u001b[1;33m(\u001b[0m\u001b[0mX\u001b[0m\u001b[1;33m,\u001b[0m \u001b[1;33m**\u001b[0m\u001b[0mcheck_X_params\u001b[0m\u001b[1;33m)\u001b[0m\u001b[1;33m\u001b[0m\u001b[1;33m\u001b[0m\u001b[0m\n\u001b[0m\u001b[0;32m    579\u001b[0m                 \u001b[0my\u001b[0m \u001b[1;33m=\u001b[0m \u001b[0mcheck_array\u001b[0m\u001b[1;33m(\u001b[0m\u001b[0my\u001b[0m\u001b[1;33m,\u001b[0m \u001b[1;33m**\u001b[0m\u001b[0mcheck_y_params\u001b[0m\u001b[1;33m)\u001b[0m\u001b[1;33m\u001b[0m\u001b[1;33m\u001b[0m\u001b[0m\n\u001b[0;32m    580\u001b[0m             \u001b[1;32melse\u001b[0m\u001b[1;33m:\u001b[0m\u001b[1;33m\u001b[0m\u001b[1;33m\u001b[0m\u001b[0m\n",
      "\u001b[1;32mc:\\Users\\Maker\\Anaconda\\lib\\site-packages\\sklearn\\utils\\validation.py\u001b[0m in \u001b[0;36mcheck_array\u001b[1;34m(array, accept_sparse, accept_large_sparse, dtype, order, copy, force_all_finite, ensure_2d, allow_nd, ensure_min_samples, ensure_min_features, estimator)\u001b[0m\n\u001b[0;32m    798\u001b[0m \u001b[1;33m\u001b[0m\u001b[0m\n\u001b[0;32m    799\u001b[0m         \u001b[1;32mif\u001b[0m \u001b[0mforce_all_finite\u001b[0m\u001b[1;33m:\u001b[0m\u001b[1;33m\u001b[0m\u001b[1;33m\u001b[0m\u001b[0m\n\u001b[1;32m--> 800\u001b[1;33m             \u001b[0m_assert_all_finite\u001b[0m\u001b[1;33m(\u001b[0m\u001b[0marray\u001b[0m\u001b[1;33m,\u001b[0m \u001b[0mallow_nan\u001b[0m\u001b[1;33m=\u001b[0m\u001b[0mforce_all_finite\u001b[0m \u001b[1;33m==\u001b[0m \u001b[1;34m\"allow-nan\"\u001b[0m\u001b[1;33m)\u001b[0m\u001b[1;33m\u001b[0m\u001b[1;33m\u001b[0m\u001b[0m\n\u001b[0m\u001b[0;32m    801\u001b[0m \u001b[1;33m\u001b[0m\u001b[0m\n\u001b[0;32m    802\u001b[0m     \u001b[1;32mif\u001b[0m \u001b[0mensure_min_samples\u001b[0m \u001b[1;33m>\u001b[0m \u001b[1;36m0\u001b[0m\u001b[1;33m:\u001b[0m\u001b[1;33m\u001b[0m\u001b[1;33m\u001b[0m\u001b[0m\n",
      "\u001b[1;32mc:\\Users\\Maker\\Anaconda\\lib\\site-packages\\sklearn\\utils\\validation.py\u001b[0m in \u001b[0;36m_assert_all_finite\u001b[1;34m(X, allow_nan, msg_dtype)\u001b[0m\n\u001b[0;32m    112\u001b[0m         ):\n\u001b[0;32m    113\u001b[0m             \u001b[0mtype_err\u001b[0m \u001b[1;33m=\u001b[0m \u001b[1;34m\"infinity\"\u001b[0m \u001b[1;32mif\u001b[0m \u001b[0mallow_nan\u001b[0m \u001b[1;32melse\u001b[0m \u001b[1;34m\"NaN, infinity\"\u001b[0m\u001b[1;33m\u001b[0m\u001b[1;33m\u001b[0m\u001b[0m\n\u001b[1;32m--> 114\u001b[1;33m             raise ValueError(\n\u001b[0m\u001b[0;32m    115\u001b[0m                 msg_err.format(\n\u001b[0;32m    116\u001b[0m                     \u001b[0mtype_err\u001b[0m\u001b[1;33m,\u001b[0m \u001b[0mmsg_dtype\u001b[0m \u001b[1;32mif\u001b[0m \u001b[0mmsg_dtype\u001b[0m \u001b[1;32mis\u001b[0m \u001b[1;32mnot\u001b[0m \u001b[1;32mNone\u001b[0m \u001b[1;32melse\u001b[0m \u001b[0mX\u001b[0m\u001b[1;33m.\u001b[0m\u001b[0mdtype\u001b[0m\u001b[1;33m\u001b[0m\u001b[1;33m\u001b[0m\u001b[0m\n",
      "\u001b[1;31mValueError\u001b[0m: Input contains NaN, infinity or a value too large for dtype('float32')."
     ]
    }
   ],
   "source": [
    "X_train, X_test, y_train, y_test = train_test_split(X_scaled, y, test_size=0.2, random_state=42)\n",
    "\n",
    "model = DecisionTreeRegressor(random_state=42)\n",
    "\n",
    "# Train the model\n",
    "model.fit(X_train, y_train)\n"
   ]
  },
  {
   "cell_type": "code",
   "execution_count": null,
   "metadata": {},
   "outputs": [
    {
     "name": "stdout",
     "output_type": "stream",
     "text": [
      "Mean Squared Error: 16882.638719061935\n",
      "Root Mean Squared Error: 129.9332086845466\n",
      "Mean Absolute Error: 69.51952706791417\n"
     ]
    }
   ],
   "source": [
    "# Make predictions on the test set\n",
    "y_pred = model.predict(X_test)\n",
    "\n",
    "# Calculate and print the errors\n",
    "mse = mean_squared_error(y_test, y_pred)\n",
    "rmse = np.sqrt(mse)\n",
    "mae = mean_absolute_error(y_test, y_pred)\n",
    "print(f\"Mean Squared Error: {mse}\")\n",
    "print(f\"Root Mean Squared Error: {rmse}\")\n",
    "print(f\"Mean Absolute Error: {mae}\")\n"
   ]
  },
  {
   "cell_type": "code",
   "execution_count": null,
   "metadata": {},
   "outputs": [
    {
     "name": "stdout",
     "output_type": "stream",
     "text": [
      "Fitting 3 folds for each of 18 candidates, totalling 54 fits\n"
     ]
    },
    {
     "name": "stdout",
     "output_type": "stream",
     "text": [
      "Best Parameters: {'max_depth': 20, 'max_features': 'auto', 'min_samples_leaf': 4}\n"
     ]
    }
   ],
   "source": [
    "from sklearn.model_selection import GridSearchCV\n",
    "from sklearn.tree import DecisionTreeRegressor\n",
    "\n",
    "# Define the parameter grid\n",
    "param_grid = {\n",
    "    'max_depth': [10, 20, 30],\n",
    "    'min_samples_leaf': [1, 2, 4],\n",
    "    'max_features': ['auto', 'sqrt']\n",
    "}\n",
    "\n",
    "# Initialize the model\n",
    "dtree = DecisionTreeRegressor(random_state=42)\n",
    "\n",
    "# Initialize GridSearchCV\n",
    "grid_search = GridSearchCV(estimator=dtree, param_grid=param_grid, \n",
    "                           cv=3, n_jobs=-1, verbose=2, scoring='neg_mean_squared_error')\n",
    "\n",
    "# Fit GridSearchCV\n",
    "grid_search.fit(X_train, y_train)\n",
    "\n",
    "# Print the best parameters\n",
    "print(\"Best Parameters:\", grid_search.best_params_)\n"
   ]
  },
  {
   "cell_type": "code",
   "execution_count": null,
   "metadata": {},
   "outputs": [],
   "source": [
    "best_model = grid_search.best_estimator_"
   ]
  },
  {
   "cell_type": "code",
   "execution_count": null,
   "metadata": {},
   "outputs": [
    {
     "name": "stdout",
     "output_type": "stream",
     "text": [
      "Mean Squared Error: 16078.872076033716\n",
      "Root Mean Squared Error: 126.80249238888689\n",
      "Mean Absolute Error: 71.29446073639622\n"
     ]
    }
   ],
   "source": [
    "# Evaluate the best model from grid search\n",
    "y_pred = best_model.predict(X_test)\n",
    "mse = mean_squared_error(y_test, y_pred)\n",
    "rmse = np.sqrt(mse)\n",
    "mae = mean_absolute_error(y_test, y_pred)\n",
    "print(f\"Mean Squared Error: {mse}\")\n",
    "print(f\"Root Mean Squared Error: {rmse}\")\n",
    "print(f\"Mean Absolute Error: {mae}\")"
   ]
  },
  {
   "cell_type": "code",
   "execution_count": null,
   "metadata": {},
   "outputs": [
    {
     "data": {
      "image/png": "[encoded data removed]",
      "text/plain": [
       "<Figure size 640x480 with 1 Axes>"
      ]
     },
     "metadata": {},
     "output_type": "display_data"
    }
   ],
   "source": [
    "# Plotting the error distribution\n",
    "plt.hist(y_test - y_pred, bins=30)\n",
    "plt.xlabel('Prediction Error')\n",
    "plt.ylabel('Frequency')\n",
    "plt.title('Error Distribution')\n",
    "plt.show()"
   ]
  },
  {
   "cell_type": "code",
   "execution_count": null,
   "metadata": {},
   "outputs": [
    {
     "name": "stdout",
     "output_type": "stream",
     "text": [
      "Random Forest MSE: 16123.932905813443\n"
     ]
    }
   ],
   "source": [
    "from sklearn.ensemble import RandomForestRegressor\n",
    "\n",
    "# Trying RandomForestRegressor\n",
    "rf_model = RandomForestRegressor(n_estimators=100, random_state=42)\n",
    "rf_model.fit(X_train, y_train)\n",
    "y_pred_rf = rf_model.predict(X_test)\n",
    "\n",
    "# Evaluate RandomForestRegressor\n",
    "mse_rf = mean_squared_error(y_test, y_pred_rf)\n",
    "print(f\"Random Forest MSE: {mse_rf}\")\n"
   ]
  },
  {
   "cell_type": "code",
   "execution_count": null,
   "metadata": {},
   "outputs": [
    {
     "name": "stdout",
     "output_type": "stream",
     "text": [
      "CV Average Score:  -0.32450836937040994\n"
     ]
    }
   ],
   "source": [
    "from sklearn.model_selection import cross_val_score\n",
    "\n",
    "# Cross-validation with 5 folds\n",
    "cv_scores = cross_val_score(best_model, X, y, cv=5)\n",
    "print(\"CV Average Score: \", np.mean(cv_scores))\n"
   ]
  },
  {
   "cell_type": "code",
   "execution_count": null,
   "metadata": {},
   "outputs": [
    {
     "data": {
      "text/plain": [
       "['best_model.joblib']"
      ]
     },
     "execution_count": 444,
     "metadata": {},
     "output_type": "execute_result"
    }
   ],
   "source": [
    "import joblib\n",
    "\n",
    "# Save the model to a file\n",
    "joblib.dump(best_model, 'best_model.joblib')\n"
   ]
  },
  {
   "cell_type": "markdown",
   "metadata": {},
   "source": [
    "Creating the dashboard "
   ]
  },
  {
   "cell_type": "code",
   "execution_count": null,
   "metadata": {},
   "outputs": [],
   "source": [
    "pip install dash\n"
   ]
  },
  {
   "cell_type": "code",
   "execution_count": null,
   "metadata": {},
   "outputs": [
    {
     "data": {
      "text/html": [
       "\n",
       "        <iframe\n",
       "            width=\"100%\"\n",
       "            height=\"650\"\n",
       "            src=\"http://127.0.0.1:8050/\"\n",
       "            frameborder=\"0\"\n",
       "            allowfullscreen\n",
       "            \n",
       "        ></iframe>\n",
       "        "
      ],
      "text/plain": [
       "<IPython.lib.display.IFrame at 0x27257ae1ca0>"
      ]
     },
     "metadata": {},
     "output_type": "display_data"
    }
   ],
   "source": [
    "import dash\n",
    "from dash import dcc, html\n",
    "from dash.dependencies import Input, Output\n",
    "import plotly.express as px\n",
    "import pandas as pd\n",
    "\n",
    "# Load your dataset\n",
    "df = pd.read_csv('Hydropower_Allocations.csv')\n",
    "\n",
    "# Initialize the Dash app\n",
    "app = dash.Dash(__name__)\n",
    "\n",
    "# Define the layout of the app\n",
    "app.layout = html.Div([\n",
    "    dcc.Graph(id='scatter-plot'),\n",
    "    html.P(\"Select Allocation (kW):\"),\n",
    "    dcc.Slider(\n",
    "        id='allocation-slider',\n",
    "        min=df['Allocation (kW)'].min(),\n",
    "        max=df['Allocation (kW)'].max(),\n",
    "        value=df['Allocation (kW)'].min(),\n",
    "        marks={i: str(i) for i in range(int(df['Allocation (kW)'].min()), int(df['Allocation (kW)'].max())+1)},\n",
    "        step=1\n",
    "    ),\n",
    "    html.Div(id='prediction-output')\n",
    "])\n",
    "\n",
    "# Simplified callback for updating the graph\n",
    "@app.callback(\n",
    "    Output('scatter-plot', 'figure'),\n",
    "    [Input('allocation-slider', 'value')]\n",
    ")\n",
    "def update_graph(selected_allocation):\n",
    "    # Simplified plot\n",
    "    fig = px.scatter(x=[1, 2, 3], y=[1, 2, 3])\n",
    "    return fig\n",
    "\n",
    "# Simplified callback for the machine learning model prediction\n",
    "@app.callback(\n",
    "    Output('prediction-output', 'children'),\n",
    "    [Input('allocation-slider', 'value')]\n",
    ")\n",
    "def update_prediction(selected_allocation):\n",
    "    # Simplified text output\n",
    "    return f'Selected Allocation: {selected_allocation}'\n",
    "\n",
    "# Run the app\n",
    "if __name__ == '__main__':\n",
    "    app.run_server(debug=True)\n"
   ]
  }
 ],
 "metadata": {
  "kernelspec": {
   "display_name": "base",
   "language": "python",
   "name": "python3"
  },
  "language_info": {
   "codemirror_mode": {
    "name": "ipython",
    "version": 3
   },
   "file_extension": ".py",
   "mimetype": "text/x-python",
   "name": "python",
   "nbconvert_exporter": "python",
   "pygments_lexer": "ipython3",
   "version": "3.9.13"
  }
 },
 "nbformat": 4,
 "nbformat_minor": 2
}
